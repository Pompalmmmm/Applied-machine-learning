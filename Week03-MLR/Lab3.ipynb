{
  "cells": [
    {
      "cell_type": "markdown",
      "metadata": {
        "id": "view-in-github",
        "colab_type": "text"
      },
      "source": [
        "<a href=\"https://colab.research.google.com/github/ekaratnida/Applied-machine-learning/blob/master/Week03-MLR/Lab3.ipynb\" target=\"_parent\"><img src=\"https://colab.research.google.com/assets/colab-badge.svg\" alt=\"Open In Colab\"/></a>"
      ]
    },
    {
      "cell_type": "markdown",
      "metadata": {
        "id": "IR9ZdTd2JONK"
      },
      "source": [
        "# Multivariate linear regresion\n"
      ]
    },
    {
      "cell_type": "markdown",
      "metadata": {
        "id": "LMd2JbV8JONN"
      },
      "source": [
        "## 1.1 Normal equation (Numpy version)"
      ]
    },
    {
      "cell_type": "code",
      "execution_count": 1,
      "metadata": {
        "_cell_guid": "b1076dfc-b9ad-4769-8c92-a6c4dae69d19",
        "_uuid": "8f2839f25d086af736a60e9eeb907d3b93b6e0e5",
        "id": "gTzq8DsWJONN",
        "outputId": "cf29f6e8-357e-4552-fb56-7bcbe48584bf",
        "colab": {
          "base_uri": "https://localhost:8080/",
          "height": 612
        }
      },
      "outputs": [
        {
          "output_type": "stream",
          "name": "stdout",
          "text": [
            "(3, 2)\n",
            "y =  [1 1 4]\n",
            "x_b =  [[1. 0. 1.]\n",
            " [1. 2. 6.]\n",
            " [1. 3. 8.]]\n",
            "theta =  [ 7. 15. -6.]\n",
            "y_p =  [1. 1. 4.]\n",
            "data =  [(0, 1), (2, 1), (3, 4)]\n"
          ]
        },
        {
          "output_type": "display_data",
          "data": {
            "text/plain": [
              "<Figure size 640x480 with 1 Axes>"
            ],
            "image/png": "[encoded data removed]"
          },
          "metadata": {}
        }
      ],
      "source": [
        "import numpy as np\n",
        "np.set_printoptions(precision=2)\n",
        "from sklearn.datasets import make_regression\n",
        "\n",
        "#x, y = make_regression(n_samples=10, n_features=2, noise=2, random_state=123)\n",
        "#x_b = np.c_[np.ones((x.shape[0],1)),x]\n",
        "\n",
        "#x = np.array([[0,2,3],[1,6,8]]).T\n",
        "x = np.array([[0,1],[2,6],[3,8]])\n",
        "y = np.array([1,1,4])\n",
        "print(x.shape)\n",
        "print(\"y = \", y)\n",
        "\n",
        "x_b = np.c_[np.ones((x.shape[0],1)),x]\n",
        "print(\"x_b = \", x_b)\n",
        "\n",
        "#call inverse function from linear algebra module\n",
        "theta = np.linalg.inv(x_b.T.dot(x_b)).dot(x_b.T).dot(y)\n",
        "print(\"theta = \", theta)\n",
        "\n",
        "#predict trainned x\n",
        "y_p = x_b.dot(theta)\n",
        "print(\"y_p = \",y_p)\n",
        "\n",
        "import matplotlib.pyplot as plt\n",
        "\n",
        "#Create the title\n",
        "exp = \"\"\n",
        "plus = \"+\"\n",
        "for t in range(len(theta)):\n",
        "  if t == len(theta)-1:\n",
        "    plus = \"\"\n",
        "  if t == 0:\n",
        "    xterm = \"\"\n",
        "  else:\n",
        "    xterm = r\"$x_\"+str(t)+\"$\"\n",
        "  exp += str(np.round(theta[t],2)) + xterm + plus\n",
        "#end create the title\n",
        "\n",
        "plt.title(\"y = \"+exp)\n",
        "data = sorted(zip(x[:,0],y))\n",
        "print(\"data = \", data)\n",
        "x_val = [x[0] for x in data]\n",
        "y_val = [x[1] for x in data]\n",
        "\n",
        "plt.plot(x_val, y_val, \"b.\")\n",
        "#plt.plot(x_val, y_p,\"r.\")\n",
        "plt.xlabel(r'$x_1$')\n",
        "plt.ylabel(r'$y$')\n",
        "\n",
        "plt.show()\n"
      ]
    },
    {
      "cell_type": "code",
      "source": [
        "test = sorted(zip(x[:,0],y))\n",
        "print(type(test))\n",
        "for i in test:\n",
        "  print(i)\n",
        "\n",
        "test = zip(x[:,0],y)\n",
        "print(type(test))\n",
        "for i in test:\n",
        "  print(i)"
      ],
      "metadata": {
        "id": "mzOqCBTd7JTs",
        "outputId": "aac93e10-e011-414c-8edb-49524b028236",
        "colab": {
          "base_uri": "https://localhost:8080/"
        }
      },
      "execution_count": 2,
      "outputs": [
        {
          "output_type": "stream",
          "name": "stdout",
          "text": [
            "<class 'list'>\n",
            "(0, 1)\n",
            "(2, 1)\n",
            "(3, 4)\n",
            "<class 'zip'>\n",
            "(0, 1)\n",
            "(2, 1)\n",
            "(3, 4)\n"
          ]
        }
      ]
    },
    {
      "cell_type": "markdown",
      "metadata": {
        "id": "cHMj49QGJONQ"
      },
      "source": [
        "Exercise1 <br>\n",
        "1.1 Change a number of features to 4 (x1,x2,x3,x4) and plot 4 graphs </br>\n",
        "1.2 Change a number of features to 2 (x1,x2) and use plotly to plot 3D visualization (x1,x2,y)."
      ]
    },
    {
      "cell_type": "markdown",
      "metadata": {
        "id": "SEsehC1aJONR"
      },
      "source": [
        "# **Sklearn**"
      ]
    },
    {
      "cell_type": "code",
      "execution_count": 3,
      "metadata": {
        "_cell_guid": "79c7e3d0-c299-4dcb-8224-4455121ee9b0",
        "_uuid": "d629ff2d2480ee46fbb7e2d37f6b5fab8052498a",
        "id": "K0nd1HtqJONR",
        "outputId": "74f385ee-e8bc-46e4-e326-2ff4e32e3f5f",
        "colab": {
          "base_uri": "https://localhost:8080/",
          "height": 263
        }
      },
      "outputs": [
        {
          "output_type": "stream",
          "name": "stdout",
          "text": [
            "6.999999999999989  ,  [15. -6.]\n"
          ]
        },
        {
          "output_type": "error",
          "ename": "NameError",
          "evalue": "ignored",
          "traceback": [
            "\u001b[0;31m---------------------------------------------------------------------------\u001b[0m",
            "\u001b[0;31mNameError\u001b[0m                                 Traceback (most recent call last)",
            "\u001b[0;32m<ipython-input-3-3ec4e76f7f28>\u001b[0m in \u001b[0;36m<cell line: 12>\u001b[0;34m()\u001b[0m\n\u001b[1;32m     10\u001b[0m \u001b[0;31m#prediction\u001b[0m\u001b[0;34m\u001b[0m\u001b[0;34m\u001b[0m\u001b[0m\n\u001b[1;32m     11\u001b[0m \u001b[0;31m#x_n = np.array([[-3,3],[5,2]])\u001b[0m\u001b[0;34m\u001b[0m\u001b[0;34m\u001b[0m\u001b[0m\n\u001b[0;32m---> 12\u001b[0;31m \u001b[0my_p\u001b[0m \u001b[0;34m=\u001b[0m \u001b[0mlin_reg\u001b[0m\u001b[0;34m.\u001b[0m\u001b[0mpredict\u001b[0m\u001b[0;34m(\u001b[0m\u001b[0mx_n\u001b[0m\u001b[0;34m)\u001b[0m\u001b[0;34m\u001b[0m\u001b[0;34m\u001b[0m\u001b[0m\n\u001b[0m\u001b[1;32m     13\u001b[0m \u001b[0mprint\u001b[0m\u001b[0;34m(\u001b[0m\u001b[0;34m\"y predict = \"\u001b[0m\u001b[0;34m,\u001b[0m\u001b[0my_p\u001b[0m\u001b[0;34m)\u001b[0m\u001b[0;34m\u001b[0m\u001b[0;34m\u001b[0m\u001b[0m\n\u001b[1;32m     14\u001b[0m \u001b[0;34m\u001b[0m\u001b[0m\n",
            "\u001b[0;31mNameError\u001b[0m: name 'x_n' is not defined"
          ]
        }
      ],
      "source": [
        "import numpy as np\n",
        "from sklearn.linear_model import LinearRegression\n",
        "\n",
        "#x, y = make_regression(n_samples=1000, n_features=2, n_informative=1, random_state=0, noise=100)\n",
        "lin_reg = LinearRegression()\n",
        "lin_reg.fit(x, y)\n",
        "print(lin_reg.intercept_, \" , \", lin_reg.coef_)\n",
        "\n",
        "\n",
        "#prediction\n",
        "#x_n = np.array([[-3,3],[5,2]])\n",
        "y_p = lin_reg.predict(x_n)\n",
        "print(\"y predict = \",y_p)\n",
        "\n",
        "import matplotlib.pyplot as plt\n",
        "plt.plot(x_n[:,0], y_p,\"r-\")\n",
        "plt.plot(x[:,0],y, \"b.\")\n",
        "plt.show()\n",
        "\n",
        "plt.plot(x_n[:,1], y_p,\"r-\")\n",
        "plt.plot(x[:,1],y, \"b.\")\n",
        "plt.show()\n",
        "\n",
        "plt.plot(x_n[:,2], y_p,\"r-\")\n",
        "plt.plot(x[:,2],y, \"b.\")\n",
        "plt.show()"
      ]
    },
    {
      "cell_type": "markdown",
      "metadata": {
        "id": "elLXFrvqJONS"
      },
      "source": [
        "# **Batch Gradient descent (Multiple linear regression)**\n"
      ]
    },
    {
      "cell_type": "code",
      "execution_count": null,
      "metadata": {
        "id": "Fy_puf-oJONS"
      },
      "outputs": [],
      "source": [
        "import numpy as np\n",
        "import random\n",
        "import sklearn\n",
        "import matplotlib.pyplot as plt\n",
        "from scipy import stats\n",
        "\n",
        "def cost_function(theta, x, y, N):\n",
        "\n",
        "    y_hat = theta.T.dot(x.T)\n",
        "    #print(\"y_predict \",y_hat)\n",
        "    hmse = (1/(2*N))*np.sum((y_hat-y)**2)\n",
        "    #print(\"error \", hmse)\n",
        "    return hmse\n",
        "\n",
        "def gradient_descent(alpha, x, y, ep=0.0000001, max_iter=10000):\n",
        "\n",
        "    converged = False\n",
        "    iter = 0\n",
        "    N = x.shape[0] # number of samples\n",
        "\n",
        "    # initial theta\n",
        "    t = np.random.random((x.shape[1],1))\n",
        "    #t = np.ones((x.shape[1],1))\n",
        "    #print(\"t \", t)\n",
        "\n",
        "    # total error, J(theta)\n",
        "    J = cost_function(t,x,y,N)\n",
        "    #print(\"Iteration 0 --> J=\",J,\" t0=\",t0,\" t1=\",t1)\n",
        "\n",
        "    # Iterate Loop\n",
        "    while not converged:\n",
        "\n",
        "        #print(\"theta.shape \",t.shape)\n",
        "        #print(\"x.shape \",x.shape)\n",
        "        y_hat = t.T.dot(x.T)\n",
        "        error = y_hat-y\n",
        "        grad = x.T.dot(error.T)\n",
        "\n",
        "        #grad = x.T.dot(((t.T.dot(x.T)-y).T))\n",
        "\n",
        "        t = t - alpha * (1/N) * (grad)\n",
        "\n",
        "        # error\n",
        "        e = cost_function(t,x,y,N)\n",
        "\n",
        "        if abs(J-e) <= ep:\n",
        "            print(\"Converged, iterations: \", iter, \"/\", max_iter)\n",
        "            converged = True\n",
        "\n",
        "        J = e   # update error s\n",
        "        iter += 1  # update iter\n",
        "\n",
        "        if iter == max_iter:\n",
        "            print('Max iterations exceeded!')\n",
        "            converged = True\n",
        "\n",
        "    return t\n",
        "\n",
        "\n",
        "if __name__ == '__main__':\n",
        "\n",
        "    alpha = 0.01 # learning rate\n",
        "\n",
        "    theta_bgd = gradient_descent(alpha, x_b, y, max_iter=100000)\n",
        "    print (\"theta \", theta_bgd)\n",
        "\n",
        "    y_p = x_n_b.dot(theta_bgd)\n",
        "\n",
        "    import matplotlib.pyplot as plt\n",
        "    plt.plot(x_n[:,0], y_p,\"r-\")\n",
        "    plt.plot(x[:,0],y, \"b.\")\n",
        "    plt.show()\n",
        "\n",
        "\n",
        "    #Evaluation\n",
        "    from sklearn.metrics import mean_squared_error\n",
        "    from sklearn.metrics import r2_score\n",
        "    y3_p = x_b.dot(theta_bgd)\n",
        "\n",
        "    print(\"BGD\")\n",
        "    print(\"Mean of Squared Errors = \", mean_squared_error(y, y3_p))\n",
        "    #print(\"Mean of Absolute Errors = \", mean_absolute_error(x_b[:,1], y2_p))\n",
        "    print(\"R2 score = \", r2_score(y, y3_p))\n"
      ]
    },
    {
      "cell_type": "markdown",
      "metadata": {
        "id": "q3LSmwS-JONU"
      },
      "source": [
        "# Stochastic GD"
      ]
    },
    {
      "cell_type": "code",
      "execution_count": null,
      "metadata": {
        "id": "DXxp5V1mJONU"
      },
      "outputs": [],
      "source": [
        "import numpy as np\n",
        "import random\n",
        "import sklearn\n",
        "import matplotlib.pyplot as plt\n",
        "from scipy import stats\n",
        "import time\n",
        "\n",
        "\n",
        "def cost_function(theta, x, y, m):\n",
        "    y_predict = theta.T.dot(x.T)\n",
        "    error = np.sum((y_predict-y)**2)\n",
        "    return error\n",
        "\n",
        "def gradient_descent(alpha, x, y, ep=0.0000001, max_iter=100000):\n",
        "\n",
        "    converged = False\n",
        "    iter = 0\n",
        "    m = x.shape[0] # number of samples\n",
        "\n",
        "    # initial theta\n",
        "    t = np.random.random((x.shape[1],1))\n",
        "\n",
        "    # total error, J(theta)\n",
        "    J = cost_function(t,x,y,m)\n",
        "\n",
        "    # Iterate Loop\n",
        "    while not converged:\n",
        "\n",
        "\n",
        "        rand_ind = np.random.randint(0,m)\n",
        "        #print(rand_ind)\n",
        "        X_i = x[rand_ind,:]\n",
        "        y_i = y[rand_ind].reshape(1,1)\n",
        "\n",
        "        y_predict = t.T.dot(X_i)\n",
        "        error = y_predict-y_i\n",
        "        X_i = X_i.reshape(1,x.shape[1])\n",
        "        grad = X_i.T.dot(error.T)\n",
        "\n",
        "        alpha = 0.001 #Learning rate\n",
        "        decay = alpha/max_iter\n",
        "        alpha *= 1/(1+decay*iter)\n",
        "        #print(\"learning schedule = \", alpha)\n",
        "\n",
        "        t = t - alpha * (1/1) * (grad)\n",
        "\n",
        "        # error\n",
        "        e = cost_function(t,X_i,y_i,m)\n",
        "\n",
        "        if abs(J-e) <= ep:\n",
        "            print(\"Converged, iterations: \", iter, \"/\", max_iter)\n",
        "            converged = True\n",
        "\n",
        "        J = e   # update error s\n",
        "        iter += 1  # update iter\n",
        "\n",
        "        if iter == max_iter:\n",
        "            print('Max iterations exceeded!')\n",
        "            converged = True\n",
        "\n",
        "    return t\n",
        "\n",
        "\n",
        "if __name__ == '__main__':\n",
        "\n",
        "    #x, y = make_regression(n_samples=100, n_features=2, n_informative=1, random_state=0, noise=35)\n",
        "    #x_b = np.c_[np.ones((x.shape[0],1)),x]\n",
        "\n",
        "    alpha = 0.01 # learning rate\n",
        "\n",
        "    theta_sgd = gradient_descent(alpha, x_b, y, max_iter=100000)\n",
        "    print (\"theta \", theta_sgd)\n",
        "\n",
        "    y_p = x_n_b.dot(theta_sgd)\n",
        "\n",
        "    import matplotlib.pyplot as plt\n",
        "    plt.plot(x_n[:,0], y_p,\"r-\")\n",
        "    plt.plot(x[:,0],y, \"b.\")\n",
        "    plt.show()\n",
        "\n",
        "    from sklearn.metrics import mean_squared_error\n",
        "    from sklearn.metrics import mean_absolute_error\n",
        "    from sklearn.metrics import r2_score\n",
        "    y2_p = x_b.dot(theta_sgd)\n",
        "    #print(\"y predict = \",y2_p)\n",
        "\n",
        "    print(\"SGD\")\n",
        "    print(\"Mean of Squared Errors = \", mean_squared_error(y, y2_p))\n",
        "    #print(\"Mean of Absolute Errors = \", mean_absolute_error(x_b[:,1], y2_p))\n",
        "    print(\"R2 score = \", r2_score(y, y2_p))\n"
      ]
    },
    {
      "cell_type": "markdown",
      "metadata": {
        "id": "EDicYUpzJONV"
      },
      "source": [
        "# Mini-batch GD"
      ]
    },
    {
      "cell_type": "code",
      "execution_count": null,
      "metadata": {
        "id": "oNkqLNRuJONV"
      },
      "outputs": [],
      "source": [
        "import numpy as np\n",
        "import random\n",
        "import sklearn\n",
        "import matplotlib.pyplot as plt\n",
        "from scipy import stats\n",
        "import time\n",
        "\n",
        "def cost_function(theta, x, y, m):\n",
        "    y_predict = theta.T.dot(x.T)\n",
        "    error = np.sum((y_predict-y)**2)\n",
        "    return error\n",
        "\n",
        "def gradient_descent(alpha, x, y, ep=0.00000001, max_iter=10000):\n",
        "\n",
        "    converged = False\n",
        "    iter = 0\n",
        "    m = x.shape[0] # number of samples\n",
        "\n",
        "    # initial theta\n",
        "    t = np.random.random((x.shape[1],1))\n",
        "\n",
        "    # total error, J(theta)\n",
        "    J = cost_function(t,x,y,m)\n",
        "\n",
        "    batch_size = 10\n",
        "\n",
        "    # Iterate Loop\n",
        "    while not converged:\n",
        "\n",
        "        #shuffle\n",
        "        rand_ind = np.random.permutation(m)\n",
        "        #print(rand_ind)\n",
        "        x = x[rand_ind]\n",
        "        y = y[rand_ind]\n",
        "\n",
        "        for i in range(0,m,batch_size):\n",
        "            #print(\"i\",i)\n",
        "\n",
        "            X_i = x[i:i+batch_size]\n",
        "            #print(\"X_i\", X_i)\n",
        "            y_i = y[i:i+batch_size]\n",
        "            #print(\"y_i\", y_i)\n",
        "\n",
        "            y_predict = t.T.dot(X_i.T)\n",
        "            error = y_predict-y_i\n",
        "            grad = X_i.T.dot(error.T)\n",
        "\n",
        "            t = t - alpha * (1/batch_size) * (grad)\n",
        "\n",
        "            # error\n",
        "            e = cost_function(t,X_i,y_i,m)\n",
        "\n",
        "            if abs(J-e) <= ep:\n",
        "                print(\"Converged, iterations: \", iter, \"/\", max_iter)\n",
        "                converged = True\n",
        "\n",
        "            J = e   # update error s\n",
        "            iter += 1  # update iter\n",
        "\n",
        "            if iter == max_iter:\n",
        "                print('Max iterations exceeded!')\n",
        "                converged = True\n",
        "\n",
        "    return t\n",
        "\n",
        "\n",
        "if __name__ == '__main__':\n",
        "\n",
        "    alpha = 0.01 # learning rate\n",
        "\n",
        "    theta = gradient_descent(alpha, x_b, y, max_iter=100000)\n",
        "    print (\"theta \", theta)\n",
        "\n",
        "    y_p = x_n_b.dot(theta)\n",
        "\n",
        "    import matplotlib.pyplot as plt\n",
        "    plt.plot(x_n[:,0], y_p,\"r-\")\n",
        "    plt.plot(x[:,0],y, \"b.\")\n",
        "    plt.show()\n",
        "\n",
        "    from sklearn.metrics import mean_squared_error\n",
        "    #from sklearn.metrics import mean_absolute_error\n",
        "    from sklearn.metrics import r2_score\n",
        "    y2_p = x_b.dot(theta_sgd)\n",
        "    #print(\"y predict = \",y2_p)\n",
        "\n",
        "    print(\"miniGD\")\n",
        "    print(\"Mean of Squared Errors = \", mean_squared_error(y, y2_p))\n",
        "    #print(\"Mean of Absolute Errors = \", mean_absolute_error(x_b[:,1], y2_p))\n",
        "    print(\"R2 score = \", r2_score(y, y2_p))"
      ]
    },
    {
      "cell_type": "markdown",
      "metadata": {
        "id": "0BvXPq1FJONW"
      },
      "source": [
        "# Polynomial regression\n",
        "Reference: https://towardsdatascience.com/machine-learning-polynomial-regression-with-python-5328e4e8a386"
      ]
    },
    {
      "cell_type": "code",
      "execution_count": null,
      "metadata": {
        "id": "ZFoOB7-1JONW"
      },
      "outputs": [],
      "source": [
        "import numpy as np\n",
        "import matplotlib.pyplot as plt\n",
        "import pandas as pd\n",
        "\n",
        "# Importing the dataset\n",
        "df = pd.read_csv('https://s3.us-west-2.amazonaws.com/public.gamelab.fun/dataset/position_salaries.csv')\n",
        "X = df.iloc[:, 1:2].values\n",
        "y = df.iloc[:, 2].values\n",
        "print(df.head())\n",
        "print(X)\n",
        "print(y)"
      ]
    },
    {
      "cell_type": "code",
      "execution_count": null,
      "metadata": {
        "id": "Ksf7VFwaJONX"
      },
      "outputs": [],
      "source": [
        "# Fitting Linear Regression to the dataset\n",
        "from sklearn.linear_model import LinearRegression\n",
        "lin_reg = LinearRegression()\n",
        "lin_reg.fit(X, y)\n",
        "print(y)\n",
        "# Visualizing the Linear Regression results\n",
        "\n",
        "plt.scatter(X, y, color='red')\n",
        "plt.plot(X, lin_reg.predict(X), color='blue')\n",
        "plt.title('Truth or Bluff (Linear Regression)')\n",
        "plt.xlabel('Position level')\n",
        "plt.ylabel('Salary')\n",
        "plt.show()\n"
      ]
    },
    {
      "cell_type": "code",
      "execution_count": null,
      "metadata": {
        "id": "nhivx0cQJONX"
      },
      "outputs": [],
      "source": [
        "# Fitting Polynomial Regression to the dataset\n",
        "from sklearn.preprocessing import PolynomialFeatures\n",
        "poly_reg = PolynomialFeatures(degree=2)\n",
        "X_poly = poly_reg.fit_transform(X)\n",
        "print(X_poly)\n",
        "pol_reg = LinearRegression()\n",
        "pol_reg.fit(X_poly, y)\n",
        "\n",
        "# Visualizing the Polymonial Regression results\n",
        "plt.figure(figsize=(6,4))\n",
        "plt.scatter(X, y, color='red')\n",
        "plt.plot(X, lin_reg.predict(X), color='green')\n",
        "plt.plot(X, pol_reg.predict(X_poly), color='blue')\n",
        "plt.title('Truth or Bluff (Linear Regression)')\n",
        "plt.xlabel('Position level')\n",
        "plt.ylabel('Salary')\n",
        "plt.show()\n"
      ]
    },
    {
      "cell_type": "code",
      "execution_count": null,
      "metadata": {
        "id": "e0Vog6EbJONY"
      },
      "outputs": [],
      "source": [
        "# Predicting a new result with Linear Regression\n",
        "print(lin_reg.predict([[5.5]]))\n",
        "#output should be 249500\n",
        "\n",
        "# Predicting a new result with Polymonial Regression\n",
        "print(pol_reg.predict(poly_reg.fit_transform([[5.5]])))\n",
        "#output should be 132148.43750003"
      ]
    },
    {
      "cell_type": "markdown",
      "source": [
        "#timeit, m=1M\n",
        "#m=10, print line by line"
      ],
      "metadata": {
        "id": "z7AL91RTrMjN"
      }
    }
  ],
  "metadata": {
    "kernelspec": {
      "display_name": "Python 3",
      "language": "python",
      "name": "python3"
    },
    "language_info": {
      "codemirror_mode": {
        "name": "ipython",
        "version": 3
      },
      "file_extension": ".py",
      "mimetype": "text/x-python",
      "name": "python",
      "nbconvert_exporter": "python",
      "pygments_lexer": "ipython3",
      "version": "3.7.4"
    },
    "colab": {
      "name": "Lab3.ipynb",
      "provenance": [],
      "include_colab_link": true
    }
  },
  "nbformat": 4,
  "nbformat_minor": 0
}