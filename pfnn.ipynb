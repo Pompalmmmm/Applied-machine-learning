{
  "nbformat": 4,
  "nbformat_minor": 0,
  "metadata": {
    "colab": {
      "provenance": [],
      "gpuType": "T4",
      "mount_file_id": "1SfV206C3NPUfVAQ8Oa5fG-fejhxXcY_L",
      "authorship_tag": "ABX9TyM9WhDWy+CapKhvv5qp+6e4",
      "include_colab_link": true
    },
    "kernelspec": {
      "name": "python3",
      "display_name": "Python 3"
    },
    "language_info": {
      "name": "python"
    },
    "accelerator": "GPU"
  },
  "cells": [
    {
      "cell_type": "markdown",
      "metadata": {
        "id": "view-in-github",
        "colab_type": "text"
      },
      "source": [
        "<a href=\"https://colab.research.google.com/github/ekaratnida/Applied-machine-learning/blob/master/pfnn.ipynb\" target=\"_parent\"><img src=\"https://colab.research.google.com/assets/colab-badge.svg\" alt=\"Open In Colab\"/></a>"
      ]
    },
    {
      "cell_type": "markdown",
      "source": [
        "unzip /path/to/file.zip -d temp_for_zip_extract"
      ],
      "metadata": {
        "id": "0rWFfqCoTVuq"
      }
    },
    {
      "cell_type": "code",
      "execution_count": null,
      "metadata": {
        "id": "nvumUECZSOVm"
      },
      "outputs": [],
      "source": [
        "!pwd\n",
        "!unzip /content/drive/MyDrive/research/pfnn-master.zip -d /content/drive/MyDrive/research/pfnn"
      ]
    },
    {
      "cell_type": "code",
      "source": [
        "%cd /content/drive/MyDrive/research/pfnn/pfnn-master"
      ],
      "metadata": {
        "colab": {
          "base_uri": "https://localhost:8080/"
        },
        "id": "SvC-BZg1TBK9",
        "outputId": "7a20937c-4d93-4fc7-ebba-288df737bfd0"
      },
      "execution_count": 2,
      "outputs": [
        {
          "output_type": "stream",
          "name": "stdout",
          "text": [
            "/content/drive/MyDrive/research/pfnn/pfnn-master\n"
          ]
        }
      ]
    },
    {
      "cell_type": "code",
      "source": [
        "!pwd"
      ],
      "metadata": {
        "colab": {
          "base_uri": "https://localhost:8080/"
        },
        "id": "dcsXjUPxUkIl",
        "outputId": "219c2865-3896-4710-ecd0-0284c368d501"
      },
      "execution_count": 3,
      "outputs": [
        {
          "output_type": "stream",
          "name": "stdout",
          "text": [
            "/content/drive/MyDrive/research/pfnn/pfnn-master\n"
          ]
        }
      ]
    },
    {
      "cell_type": "code",
      "source": [
        "!pip install theano\n",
        "!pip install numpy"
      ],
      "metadata": {
        "id": "IAG3ybKGUr-7"
      },
      "execution_count": null,
      "outputs": []
    },
    {
      "cell_type": "code",
      "source": [
        "import numpy\n",
        "print(numpy.__version__)"
      ],
      "metadata": {
        "colab": {
          "base_uri": "https://localhost:8080/"
        },
        "id": "kqreZR3TU45l",
        "outputId": "8e6099df-00a9-4b23-ad75-31e65753d1f8"
      },
      "execution_count": 5,
      "outputs": [
        {
          "output_type": "stream",
          "name": "stdout",
          "text": [
            "1.25.2\n"
          ]
        }
      ]
    },
    {
      "cell_type": "code",
      "source": [
        "!python train_pfnn.py"
      ],
      "metadata": {
        "colab": {
          "base_uri": "https://localhost:8080/"
        },
        "id": "EpCs33fxUfnP",
        "outputId": "4cc1024a-6c99-4124-b505-9b1ec532d364"
      },
      "execution_count": 10,
      "outputs": [
        {
          "output_type": "stream",
          "name": "stdout",
          "text": [
            "(1000, 342) (1000, 311)\n",
            "\n",
            "[MacroEpoch] 000\n",
            "\n",
            "[Epoch   0] 100.0% mean 1.41978 diff  1.41978 09:42:57\n",
            "[Epoch   0] 100.0% mean 1.38414 diff  1.38414 09:43:08\n",
            "[Epoch   0] 100.0% mean 1.36927 diff  1.36927 09:43:18\n",
            "[Epoch   0] 100.0% mean 1.40327 diff  1.40327 09:43:30\n",
            "[Epoch   0] 100.0% mean 1.28194 diff  1.28194 09:43:41\n",
            "[Epoch   0] 100.0% mean 1.26559 diff  1.26559 09:43:51\n",
            "[Epoch   0] 100.0% mean 1.30849 diff  1.30849 09:44:01\n",
            "[Epoch   0] 100.0% mean 1.29221 diff  1.29221 09:44:13\n",
            "[Epoch   0] 100.0% mean 1.20697 diff  1.20697 09:44:24\n",
            "[Epoch   0] 100.0% mean 1.09732 diff  1.09732 09:44:34\n",
            "[MacroEpoch] 001\n",
            "\n",
            "[Epoch   0] 100.0% mean 1.01515 diff  1.01515 09:44:44\n",
            "[Epoch   0] 100.0% mean 0.91381 diff  0.91381 09:44:55Traceback (most recent call last):\n",
            "  File \"/content/drive/MyDrive/research/pfnn/pfnn-master/train_pfnn.py\", line 245, in <module>\n",
            "    save_network(network)\n",
            "  File \"/content/drive/MyDrive/research/pfnn/pfnn-master/train_pfnn.py\", line 192, in save_network\n",
            "    W1 = cubic(W1n[pindex_0], W1n[pindex_1], W1n[pindex_2], W1n[pindex_3], pamount)\n",
            "KeyboardInterrupt\n",
            "^C\n"
          ]
        }
      ]
    },
    {
      "cell_type": "code",
      "source": [
        "/usr/local/lib/python3.10/dist-packages/theano/configdefaults.py\n",
        "\n"
      ],
      "metadata": {
        "id": "qAM_Or362kEQ"
      },
      "execution_count": null,
      "outputs": []
    }
  ]
}