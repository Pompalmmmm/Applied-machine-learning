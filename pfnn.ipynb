{
  "nbformat": 4,
  "nbformat_minor": 0,
  "metadata": {
    "colab": {
      "provenance": [],
      "gpuType": "T4",
      "mount_file_id": "https://github.com/ekaratnida/Applied-machine-learning/blob/master/pfnn.ipynb",
      "authorship_tag": "ABX9TyNqQKXa7Jn/UCVK5npFCxRg",
      "include_colab_link": true
    },
    "kernelspec": {
      "name": "python3",
      "display_name": "Python 3"
    },
    "language_info": {
      "name": "python"
    },
    "accelerator": "GPU"
  },
  "cells": [
    {
      "cell_type": "markdown",
      "metadata": {
        "id": "view-in-github",
        "colab_type": "text"
      },
      "source": [
        "<a href=\"https://colab.research.google.com/github/ekaratnida/Applied-machine-learning/blob/master/pfnn.ipynb\" target=\"_parent\"><img src=\"https://colab.research.google.com/assets/colab-badge.svg\" alt=\"Open In Colab\"/></a>"
      ]
    },
    {
      "cell_type": "markdown",
      "source": [
        "Fast way to run PFNN"
      ],
      "metadata": {
        "id": "z1r5m0yJ9UEy"
      }
    },
    {
      "cell_type": "markdown",
      "source": [
        "Video 1: https://youtu.be/ehcs1w4fcSQ\n",
        "Video 2: https://youtu.be/NgeqfthdoUk\n",
        "github : https://github.com/RonFischer/pfnn/tree/master\n"
      ],
      "metadata": {
        "id": "YnNeH0b8-y8G"
      }
    },
    {
      "cell_type": "code",
      "source": [
        "!pwd"
      ],
      "metadata": {
        "colab": {
          "base_uri": "https://localhost:8080/"
        },
        "id": "ydxQ1bAI5OIz",
        "outputId": "333b88c3-8b71-4eb4-da9b-a7d37b4af38b"
      },
      "execution_count": 1,
      "outputs": [
        {
          "output_type": "stream",
          "name": "stdout",
          "text": [
            "/content\n"
          ]
        }
      ]
    },
    {
      "cell_type": "code",
      "execution_count": null,
      "metadata": {
        "id": "nvumUECZSOVm"
      },
      "outputs": [],
      "source": [
        "!unzip /content/drive/MyDrive/research/pfnn-master.zip -d /content/drive/MyDrive/research/pfnn"
      ]
    },
    {
      "cell_type": "code",
      "source": [
        "%cd /content/drive/MyDrive/research/pfnn/pfnn-master"
      ],
      "metadata": {
        "colab": {
          "base_uri": "https://localhost:8080/"
        },
        "id": "SvC-BZg1TBK9",
        "outputId": "7d912d6a-4d92-47fb-9078-0d53d168ebc7"
      },
      "execution_count": 3,
      "outputs": [
        {
          "output_type": "stream",
          "name": "stdout",
          "text": [
            "/content/drive/MyDrive/research/pfnn/pfnn-master\n"
          ]
        }
      ]
    },
    {
      "cell_type": "code",
      "source": [
        "!pwd\n",
        "!ls"
      ],
      "metadata": {
        "colab": {
          "base_uri": "https://localhost:8080/"
        },
        "id": "dcsXjUPxUkIl",
        "outputId": "34c880f0-677c-4f95-ba17-04b10e2fce00"
      },
      "execution_count": 5,
      "outputs": [
        {
          "output_type": "stream",
          "name": "stdout",
          "text": [
            "/content/drive/MyDrive/research/pfnn/pfnn-master\n",
            "data\t       demo\t\t     generate_patches.py  motion  README.md\n",
            "database2.npz  generate_database.py  LICENSE.md\t\t  nn\t  train_pfnn.py\n"
          ]
        }
      ]
    },
    {
      "cell_type": "code",
      "source": [
        "!pip install theano\n",
        "!pip install numpy==1.25.2"
      ],
      "metadata": {
        "id": "IAG3ybKGUr-7"
      },
      "execution_count": null,
      "outputs": []
    },
    {
      "cell_type": "code",
      "source": [
        "import numpy\n",
        "print(numpy.__version__)"
      ],
      "metadata": {
        "colab": {
          "base_uri": "https://localhost:8080/"
        },
        "id": "kqreZR3TU45l",
        "outputId": "5163362d-6b1f-43eb-b131-0a08c7fd5e64"
      },
      "execution_count": 1,
      "outputs": [
        {
          "output_type": "stream",
          "name": "stdout",
          "text": [
            "1.25.2\n"
          ]
        }
      ]
    },
    {
      "cell_type": "code",
      "source": [
        "!python train_pfnn.py"
      ],
      "metadata": {
        "colab": {
          "base_uri": "https://localhost:8080/"
        },
        "id": "EpCs33fxUfnP",
        "outputId": "1269c2de-0b68-48db-c618-787af90f2d91"
      },
      "execution_count": 4,
      "outputs": [
        {
          "output_type": "stream",
          "name": "stdout",
          "text": [
            "(1000, 342) (1000, 311)\n",
            "\n",
            "[MacroEpoch] 000\n",
            "\n",
            "[Epoch   0] 100.0% mean 1.41978 diff  1.41978 13:57:50\n",
            "[Epoch   0] 100.0% mean 1.38414 diff  1.38414 14:00:44\n",
            "[Epoch   0] 100.0% mean 1.36927 diff  1.36927 14:00:55\n",
            "[Epoch   0] 100.0% mean 1.40327 diff  1.40327 14:01:05\n",
            "[Epoch   0] 100.0% mean 1.28194 diff  1.28194 14:01:15\n",
            "[Epoch   0] 100.0% mean 1.26559 diff  1.26559 14:01:26Error in sys.excepthook:\n",
            "Traceback (most recent call last):\n",
            "  File \"/usr/local/lib/python3.10/dist-packages/theano/gof/link.py\", line 53, in thunk_hook\n",
            "    def thunk_hook(type, value, trace):\n",
            "KeyboardInterrupt\n",
            "\n",
            "Original exception was:\n",
            "Traceback (most recent call last):\n",
            "  File \"/content/drive/MyDrive/research/pfnn/pfnn-master/train_pfnn.py\", line 236, in <module>\n",
            "    trainer.train(network, E, F, filename='./demo/network/pfnn/network.npz', restart=False, shuffle=False)\n",
            "  File \"/content/drive/MyDrive/research/pfnn/pfnn-master/./nn/AdamTrainer.py\", line 65, in train\n",
            "    train_func = theano.function([index], cost, updates=updates, givens={\n",
            "  File \"/usr/local/lib/python3.10/dist-packages/theano/compile/function.py\", line 306, in function\n",
            "    fn = pfunc(params=inputs,\n",
            "  File \"/usr/local/lib/python3.10/dist-packages/theano/compile/pfunc.py\", line 483, in pfunc\n",
            "    return orig_function(inputs, cloned_outputs, mode,\n",
            "  File \"/usr/local/lib/python3.10/dist-packages/theano/compile/function_module.py\", line 1832, in orig_function\n",
            "    m = Maker(inputs,\n",
            "  File \"/usr/local/lib/python3.10/dist-packages/theano/compile/function_module.py\", line 1519, in __init__\n",
            "    optimizer_profile = optimizer(fgraph)\n",
            "  File \"/usr/local/lib/python3.10/dist-packages/theano/gof/opt.py\", line 108, in __call__\n",
            "    return self.optimize(fgraph)\n",
            "  File \"/usr/local/lib/python3.10/dist-packages/theano/gof/opt.py\", line 97, in optimize\n",
            "    ret = self.apply(fgraph, *args, **kwargs)\n",
            "  File \"/usr/local/lib/python3.10/dist-packages/theano/gof/opt.py\", line 251, in apply\n",
            "    sub_prof = optimizer.optimize(fgraph)\n",
            "  File \"/usr/local/lib/python3.10/dist-packages/theano/gof/opt.py\", line 97, in optimize\n",
            "    ret = self.apply(fgraph, *args, **kwargs)\n",
            "  File \"/usr/local/lib/python3.10/dist-packages/theano/gof/opt.py\", line 2513, in apply\n",
            "    lopt_change = self.process_node(fgraph, node, lopt)\n",
            "  File \"/usr/local/lib/python3.10/dist-packages/theano/gof/opt.py\", line 2034, in process_node\n",
            "    replacements = lopt.transform(node)\n",
            "  File \"/usr/local/lib/python3.10/dist-packages/theano/tensor/opt.py\", line 3088, in local_subtensor_merge\n",
            "    merge_two_slices(slice1,\n",
            "  File \"/usr/local/lib/python3.10/dist-packages/theano/tensor/opt.py\", line 3024, in merge_two_slices\n",
            "    stop = T.switch(T.lt(reverse2 * reverse1, 0),\n",
            "  File \"/usr/local/lib/python3.10/dist-packages/theano/gof/op.py\", line 615, in __call__\n",
            "    node = self.make_node(*inputs, **kwargs)\n",
            "  File \"/usr/local/lib/python3.10/dist-packages/theano/tensor/elemwise.py\", line 481, in make_node\n",
            "    out_dtypes, out_broadcastables, inputs = self.get_output_info(\n",
            "  File \"/usr/local/lib/python3.10/dist-packages/theano/tensor/elemwise.py\", line 422, in get_output_info\n",
            "    shadow = self.scalar_op.make_node(\n",
            "  File \"/usr/local/lib/python3.10/dist-packages/theano/scalar/basic.py\", line 1039, in make_node\n",
            "    if len(inputs) != self.nin:\n",
            "KeyboardInterrupt\n",
            "^C\n"
          ]
        }
      ]
    },
    {
      "cell_type": "code",
      "source": [
        "/usr/local/lib/python3.10/dist-packages/theano/scalar/basic.py"
      ],
      "metadata": {
        "id": "VUjU4p4l6ELp"
      },
      "execution_count": null,
      "outputs": []
    },
    {
      "cell_type": "code",
      "source": [
        "/usr/local/lib/python3.10/dist-packages/theano/configdefaults.py\n"
      ],
      "metadata": {
        "id": "qAM_Or362kEQ"
      },
      "execution_count": null,
      "outputs": []
    },
    {
      "cell_type": "markdown",
      "source": [
        "Link to database2.npz\n",
        "https://drive.google.com/file/d/1Oc0ERxtfisQcr4MFfHK0bVWAT56iD6Gg/view?usp=sharing\n"
      ],
      "metadata": {
        "id": "viOrVPUz9Kne"
      }
    }
  ]
}