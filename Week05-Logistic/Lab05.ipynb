{
  "cells": [
    {
      "cell_type": "markdown",
      "metadata": {
        "id": "view-in-github",
        "colab_type": "text"
      },
      "source": [
        "<a href=\"https://colab.research.google.com/github/ekaratnida/Applied-machine-learning/blob/master/Week05-Logistic/Lab05.ipynb\" target=\"_parent\"><img src=\"https://colab.research.google.com/assets/colab-badge.svg\" alt=\"Open In Colab\"/></a>"
      ]
    },
    {
      "cell_type": "markdown",
      "metadata": {
        "id": "IR9ZdTd2JONK"
      },
      "source": [
        "# Logistic regression\n"
      ]
    },
    {
      "cell_type": "code",
      "source": [
        "!pip install ipython-autotime\n",
        "%load_ext autotime"
      ],
      "metadata": {
        "colab": {
          "base_uri": "https://localhost:8080/"
        },
        "id": "op-hHEW5p3_Z",
        "outputId": "701a00e5-8ac7-42b1-fd10-123f026b0348"
      },
      "execution_count": 8,
      "outputs": [
        {
          "output_type": "stream",
          "name": "stdout",
          "text": [
            "Requirement already satisfied: ipython-autotime in /usr/local/lib/python3.10/dist-packages (0.3.2)\n",
            "Requirement already satisfied: ipython in /usr/local/lib/python3.10/dist-packages (from ipython-autotime) (7.34.0)\n",
            "Requirement already satisfied: setuptools>=18.5 in /usr/local/lib/python3.10/dist-packages (from ipython->ipython-autotime) (67.7.2)\n",
            "Requirement already satisfied: jedi>=0.16 in /usr/local/lib/python3.10/dist-packages (from ipython->ipython-autotime) (0.19.1)\n",
            "Requirement already satisfied: decorator in /usr/local/lib/python3.10/dist-packages (from ipython->ipython-autotime) (4.4.2)\n",
            "Requirement already satisfied: pickleshare in /usr/local/lib/python3.10/dist-packages (from ipython->ipython-autotime) (0.7.5)\n",
            "Requirement already satisfied: traitlets>=4.2 in /usr/local/lib/python3.10/dist-packages (from ipython->ipython-autotime) (5.7.1)\n",
            "Requirement already satisfied: prompt-toolkit!=3.0.0,!=3.0.1,<3.1.0,>=2.0.0 in /usr/local/lib/python3.10/dist-packages (from ipython->ipython-autotime) (3.0.43)\n",
            "Requirement already satisfied: pygments in /usr/local/lib/python3.10/dist-packages (from ipython->ipython-autotime) (2.16.1)\n",
            "Requirement already satisfied: backcall in /usr/local/lib/python3.10/dist-packages (from ipython->ipython-autotime) (0.2.0)\n",
            "Requirement already satisfied: matplotlib-inline in /usr/local/lib/python3.10/dist-packages (from ipython->ipython-autotime) (0.1.6)\n",
            "Requirement already satisfied: pexpect>4.3 in /usr/local/lib/python3.10/dist-packages (from ipython->ipython-autotime) (4.9.0)\n",
            "Requirement already satisfied: parso<0.9.0,>=0.8.3 in /usr/local/lib/python3.10/dist-packages (from jedi>=0.16->ipython->ipython-autotime) (0.8.3)\n",
            "Requirement already satisfied: ptyprocess>=0.5 in /usr/local/lib/python3.10/dist-packages (from pexpect>4.3->ipython->ipython-autotime) (0.7.0)\n",
            "Requirement already satisfied: wcwidth in /usr/local/lib/python3.10/dist-packages (from prompt-toolkit!=3.0.0,!=3.0.1,<3.1.0,>=2.0.0->ipython->ipython-autotime) (0.2.12)\n",
            "The autotime extension is already loaded. To reload it, use:\n",
            "  %reload_ext autotime\n",
            "time: 7.54 s (started: 2023-12-31 05:41:04 +00:00)\n"
          ]
        }
      ]
    },
    {
      "cell_type": "markdown",
      "metadata": {
        "id": "elLXFrvqJONS"
      },
      "source": [
        "# **Batch Gradient descent (Multiple linear regression)**\n"
      ]
    },
    {
      "cell_type": "code",
      "source": [
        "import numpy as np"
      ],
      "metadata": {
        "id": "ocyE5zEYlV-6",
        "outputId": "a603a4e7-a952-4459-b03a-a0a1190e3807",
        "colab": {
          "base_uri": "https://localhost:8080/"
        }
      },
      "execution_count": 9,
      "outputs": [
        {
          "output_type": "stream",
          "name": "stdout",
          "text": [
            "time: 456 µs (started: 2023-12-31 05:41:12 +00:00)\n"
          ]
        }
      ]
    },
    {
      "cell_type": "code",
      "source": [
        "\"\"\" sigmoid \"\"\"\n",
        "def sigmoid(z):\n",
        "    ret = 1 / (1 + np.exp(-z))\n",
        "    return ret"
      ],
      "metadata": {
        "id": "ue2BUZVdiV4a",
        "outputId": "6a692b53-5a3f-4057-cf76-0df35322bc3a",
        "colab": {
          "base_uri": "https://localhost:8080/"
        }
      },
      "execution_count": 10,
      "outputs": [
        {
          "output_type": "stream",
          "name": "stdout",
          "text": [
            "time: 652 µs (started: 2023-12-31 05:41:12 +00:00)\n"
          ]
        }
      ]
    },
    {
      "cell_type": "code",
      "source": [
        "#Negative Log Loss (NLL)\n",
        "def cost_function(theta,x,y, N):\n",
        "  y_hat = sigmoid(x.dot(theta)) #y_hat is in (0~1)\n",
        "  c = -1* (1/N) * (y.T.dot(np.log(y_hat)) + (1 - y.T).dot(np.log(1 - y_hat)))\n",
        "  return c"
      ],
      "metadata": {
        "outputId": "4ca0c7cb-4358-49b7-a000-9b357c0b5719",
        "colab": {
          "base_uri": "https://localhost:8080/"
        },
        "id": "J-OmGWNQqdBa"
      },
      "execution_count": 11,
      "outputs": [
        {
          "output_type": "stream",
          "name": "stdout",
          "text": [
            "time: 1.1 ms (started: 2023-12-31 05:41:12 +00:00)\n"
          ]
        }
      ]
    },
    {
      "cell_type": "code",
      "source": [
        "def gradient_descent(alpha, x, y, ep=0.001, max_iter=10000):\n",
        "  print(\"Start GD\")\n",
        "  converged = False\n",
        "  iter = 0\n",
        "  N = x.shape[0] # number of samples\n",
        "\n",
        "  # initial theta\n",
        "  #theta =  np.ones((x.shape[1],1)) #For debug\n",
        "  theta =  np.random.random((x.shape[1],1))\n",
        "  print(\"Init theta.shape = \",theta.shape)\n",
        "\n",
        "  # total error, J(theta)\n",
        "  J = cost_function(theta, x, y, N)\n",
        "  #print(\"First J = \",J)\n",
        "\n",
        "  # Iterate Loop\n",
        "  while not converged:\n",
        "\n",
        "    #y_hat = theta.T.dot(x) Why this line doesn't work?????????????\n",
        "    y_hat = sigmoid(x.dot(theta))\n",
        "    diff = y_hat - y\n",
        "    grad = x.T.dot(diff) #Why this line use Transpose function ??????\n",
        "\n",
        "    theta = theta - alpha * (1/N) * (grad)\n",
        "\n",
        "    assert theta.shape == (3,1) #This line makes sure that the theta'shape doesn't change from the init stage.\n",
        "\n",
        "    # error\n",
        "    J2 = cost_function(theta, x, y, N)\n",
        "    #print(\"Iterative error = \",J2)\n",
        "\n",
        "    if abs(J-J2) <= ep:\n",
        "        print(\"       Converged, iterations: \", iter, \"/\", max_iter)\n",
        "        converged = True\n",
        "\n",
        "    J = J2   # update error s\n",
        "    iter += 1  # update iter\n",
        "\n",
        "    if iter == max_iter:\n",
        "        print('       Max iterations exceeded!')\n",
        "        converged = True\n",
        "\n",
        "  #print(\"End converged iter = \",iter)\n",
        "  return theta"
      ],
      "metadata": {
        "colab": {
          "base_uri": "https://localhost:8080/"
        },
        "id": "Rm-nUjmZTJgg",
        "outputId": "c1d78fb6-19dc-4c5c-e2ff-9c934e0f9708"
      },
      "execution_count": 12,
      "outputs": [
        {
          "output_type": "stream",
          "name": "stdout",
          "text": [
            "time: 1.45 ms (started: 2023-12-31 05:41:12 +00:00)\n"
          ]
        }
      ]
    },
    {
      "cell_type": "code",
      "source": [
        "if __name__ == '__main__':\n",
        "\n",
        "  x = np.array([[0,1],[2,6],[3,8]])\n",
        "  y = np.array([1,1,0])\n",
        "  x_b = np.c_[np.ones((x.shape[0],1)),x]\n",
        "  print(\"Start main\")\n",
        "  y = y.reshape(-1,1)\n",
        "\n",
        "  alpha = 0.01 # learning rate\n",
        "  theta = gradient_descent(alpha, x_b, y, ep=0.00001, max_iter=1000)\n",
        "\n",
        "  print (\"Result theta = \", theta)\n",
        "\n",
        "  #predict trainned x\n",
        "  xtest = np.array([[4,9]])\n",
        "  xtest_b = np.c_[np.ones((xtest.shape[0],1)),xtest]\n",
        "  y_p = sigmoid( xtest_b.dot(theta) )\n",
        "  print(\"y predict prob = \", y_p )\n",
        "  print(\"y predict = \", y_p >= 0.5 )"
      ],
      "metadata": {
        "colab": {
          "base_uri": "https://localhost:8080/"
        },
        "id": "2gfzCy1yTNVC",
        "outputId": "42b1697d-6c8d-44ec-d409-b51e1060efd5"
      },
      "execution_count": 23,
      "outputs": [
        {
          "output_type": "stream",
          "name": "stdout",
          "text": [
            "Start main\n",
            "Start GD\n",
            "Init theta.shape =  (3, 1)\n",
            "       Max iterations exceeded!\n",
            "Result theta =  [[ 1.63024448]\n",
            " [-0.68946972]\n",
            " [-0.01539525]]\n",
            "y predict prob =  [[0.21990988]]\n",
            "y predict =  [[False]]\n",
            "time: 43.5 ms (started: 2023-12-31 05:51:10 +00:00)\n"
          ]
        }
      ]
    },
    {
      "cell_type": "code",
      "source": [
        "print(type(y_p),y_p.shape)"
      ],
      "metadata": {
        "id": "ymzMKHEcZ-9U",
        "outputId": "865e4fc4-85f1-433b-9320-4a74e7aff5dc",
        "colab": {
          "base_uri": "https://localhost:8080/"
        }
      },
      "execution_count": 15,
      "outputs": [
        {
          "output_type": "stream",
          "name": "stdout",
          "text": [
            "<class 'numpy.ndarray'> (1, 1)\n",
            "time: 707 µs (started: 2023-12-31 05:46:09 +00:00)\n"
          ]
        }
      ]
    },
    {
      "cell_type": "markdown",
      "metadata": {
        "id": "q3LSmwS-JONU"
      },
      "source": [
        "# Stochastic GD\n",
        "## Your turn :"
      ]
    },
    {
      "cell_type": "markdown",
      "metadata": {
        "id": "EDicYUpzJONV"
      },
      "source": [
        "# Mini-batch GD\n",
        "## Your turn :"
      ]
    }
  ],
  "metadata": {
    "kernelspec": {
      "display_name": "Python 3",
      "language": "python",
      "name": "python3"
    },
    "language_info": {
      "codemirror_mode": {
        "name": "ipython",
        "version": 3
      },
      "file_extension": ".py",
      "mimetype": "text/x-python",
      "name": "python",
      "nbconvert_exporter": "python",
      "pygments_lexer": "ipython3",
      "version": "3.7.4"
    },
    "colab": {
      "name": "Lab3.ipynb",
      "provenance": [],
      "include_colab_link": true
    }
  },
  "nbformat": 4,
  "nbformat_minor": 0
}