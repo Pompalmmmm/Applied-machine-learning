{
  "cells": [
    {
      "cell_type": "markdown",
      "metadata": {
        "id": "view-in-github",
        "colab_type": "text"
      },
      "source": [
        "<a href=\"https://colab.research.google.com/github/ekaratnida/Applied-machine-learning/blob/master/Week05-Logistic/Lab05.ipynb\" target=\"_parent\"><img src=\"https://colab.research.google.com/assets/colab-badge.svg\" alt=\"Open In Colab\"/></a>"
      ]
    },
    {
      "cell_type": "markdown",
      "metadata": {
        "id": "IR9ZdTd2JONK"
      },
      "source": [
        "# Logistic regression\n"
      ]
    },
    {
      "cell_type": "code",
      "source": [
        "!pip install ipython-autotime\n",
        "%load_ext autotime"
      ],
      "metadata": {
        "colab": {
          "base_uri": "https://localhost:8080/"
        },
        "id": "op-hHEW5p3_Z",
        "outputId": "3515fe0d-da08-49d4-9517-3bce6ec377c6"
      },
      "execution_count": 1,
      "outputs": [
        {
          "output_type": "stream",
          "name": "stdout",
          "text": [
            "Collecting ipython-autotime\n",
            "  Downloading ipython_autotime-0.3.2-py2.py3-none-any.whl (7.0 kB)\n",
            "Requirement already satisfied: ipython in /usr/local/lib/python3.10/dist-packages (from ipython-autotime) (7.34.0)\n",
            "Requirement already satisfied: setuptools>=18.5 in /usr/local/lib/python3.10/dist-packages (from ipython->ipython-autotime) (67.7.2)\n",
            "Collecting jedi>=0.16 (from ipython->ipython-autotime)\n",
            "  Downloading jedi-0.19.1-py2.py3-none-any.whl (1.6 MB)\n",
            "\u001b[2K     \u001b[90m━━━━━━━━━━━━━━━━━━━━━━━━━━━━━━━━━━━━━━━━\u001b[0m \u001b[32m1.6/1.6 MB\u001b[0m \u001b[31m15.9 MB/s\u001b[0m eta \u001b[36m0:00:00\u001b[0m\n",
            "\u001b[?25hRequirement already satisfied: decorator in /usr/local/lib/python3.10/dist-packages (from ipython->ipython-autotime) (4.4.2)\n",
            "Requirement already satisfied: pickleshare in /usr/local/lib/python3.10/dist-packages (from ipython->ipython-autotime) (0.7.5)\n",
            "Requirement already satisfied: traitlets>=4.2 in /usr/local/lib/python3.10/dist-packages (from ipython->ipython-autotime) (5.7.1)\n",
            "Requirement already satisfied: prompt-toolkit!=3.0.0,!=3.0.1,<3.1.0,>=2.0.0 in /usr/local/lib/python3.10/dist-packages (from ipython->ipython-autotime) (3.0.43)\n",
            "Requirement already satisfied: pygments in /usr/local/lib/python3.10/dist-packages (from ipython->ipython-autotime) (2.16.1)\n",
            "Requirement already satisfied: backcall in /usr/local/lib/python3.10/dist-packages (from ipython->ipython-autotime) (0.2.0)\n",
            "Requirement already satisfied: matplotlib-inline in /usr/local/lib/python3.10/dist-packages (from ipython->ipython-autotime) (0.1.6)\n",
            "Requirement already satisfied: pexpect>4.3 in /usr/local/lib/python3.10/dist-packages (from ipython->ipython-autotime) (4.9.0)\n",
            "Requirement already satisfied: parso<0.9.0,>=0.8.3 in /usr/local/lib/python3.10/dist-packages (from jedi>=0.16->ipython->ipython-autotime) (0.8.3)\n",
            "Requirement already satisfied: ptyprocess>=0.5 in /usr/local/lib/python3.10/dist-packages (from pexpect>4.3->ipython->ipython-autotime) (0.7.0)\n",
            "Requirement already satisfied: wcwidth in /usr/local/lib/python3.10/dist-packages (from prompt-toolkit!=3.0.0,!=3.0.1,<3.1.0,>=2.0.0->ipython->ipython-autotime) (0.2.12)\n",
            "Installing collected packages: jedi, ipython-autotime\n",
            "Successfully installed ipython-autotime-0.3.2 jedi-0.19.1\n",
            "time: 472 µs (started: 2023-12-31 05:28:55 +00:00)\n"
          ]
        }
      ]
    },
    {
      "cell_type": "markdown",
      "metadata": {
        "id": "elLXFrvqJONS"
      },
      "source": [
        "# **Batch Gradient descent (Multiple linear regression)**\n"
      ]
    },
    {
      "cell_type": "code",
      "source": [
        "import numpy as np"
      ],
      "metadata": {
        "id": "ocyE5zEYlV-6",
        "outputId": "94e26673-8011-48ab-cd4c-3f746542edb9",
        "colab": {
          "base_uri": "https://localhost:8080/"
        }
      },
      "execution_count": 2,
      "outputs": [
        {
          "output_type": "stream",
          "name": "stdout",
          "text": [
            "time: 454 µs (started: 2023-12-31 05:28:55 +00:00)\n"
          ]
        }
      ]
    },
    {
      "cell_type": "code",
      "source": [
        "\"\"\" sigmoid \"\"\"\n",
        "def sigmoid(z):\n",
        "    #print(\"Sigmoid input = \", z)\n",
        "    ret = 1 / (1 + np.exp(-z))\n",
        "    #print(\"Sigmoid value = \", ret)\n",
        "    return ret"
      ],
      "metadata": {
        "id": "ue2BUZVdiV4a",
        "outputId": "ed910368-593d-4201-c98b-03aa40ea8156",
        "colab": {
          "base_uri": "https://localhost:8080/"
        }
      },
      "execution_count": 3,
      "outputs": [
        {
          "output_type": "stream",
          "name": "stdout",
          "text": [
            "time: 675 µs (started: 2023-12-31 05:28:55 +00:00)\n"
          ]
        }
      ]
    },
    {
      "cell_type": "code",
      "source": [
        "#Negative Log Loss (NLL)\n",
        "def cost_function(theta,x,y, N):\n",
        "  #print(\"Cost function\")\n",
        "  #print(\"theta = \",theta)\n",
        "  #print(\"x = \",x)\n",
        "  #print(\"y = \",y)\n",
        "  y_hat = sigmoid(x.dot(theta)) #y_hat is in (0~1)\n",
        "  #print(\"y_hat = \", y_hat)\n",
        "\n",
        "  '''for i in y:\n",
        "    print(\"i = \",i)\n",
        "    print(\"> \", y[i]*np.log(y_hat[i]))\n",
        "    print(\"< \", (1-y[i])*np.log(1-y_hat[i]))'''\n",
        "  c = -1* (1/N) * (y.T.dot(np.log(y_hat)) + (1 - y.T).dot(np.log(1 - y_hat)))\n",
        "  #print(\"c = \",c)\n",
        "  return c"
      ],
      "metadata": {
        "outputId": "e8d9f4e4-5839-4aea-e986-6796722c48a7",
        "colab": {
          "base_uri": "https://localhost:8080/"
        },
        "id": "J-OmGWNQqdBa"
      },
      "execution_count": 5,
      "outputs": [
        {
          "output_type": "stream",
          "name": "stdout",
          "text": [
            "time: 698 µs (started: 2023-12-31 05:28:55 +00:00)\n"
          ]
        }
      ]
    },
    {
      "cell_type": "code",
      "source": [
        "def gradient_descent(alpha, x, y, ep=0.001, max_iter=10000):\n",
        "  print(\"Start GD\")\n",
        "  converged = False\n",
        "  iter = 0\n",
        "  N = x.shape[0] # number of samples\n",
        "  #rint(\"Num of data = \",N)\n",
        "\n",
        "  # initial theta\n",
        "  theta =  np.ones((x.shape[1],1)) #For debug\n",
        "  #theta =  np.random.random((x.shape[1],1))\n",
        "  print(\"Init theta.shape = \",theta.shape)\n",
        "\n",
        "  # total error, J(theta)\n",
        "  J = cost_function(theta, x, y, N)\n",
        "  #print(\"First J = \",J)\n",
        "\n",
        "  # Iterate Loop\n",
        "  while not converged:\n",
        "\n",
        "    #print(\"Converged at iter = \",iter)\n",
        "    #y_hat = theta.T.dot(x) Why this line doesn't work?????????????\n",
        "    y_hat = sigmoid(x.dot(theta))\n",
        "    #print(\"       y_hat = \",y_hat, \" y_hat.shape = \",y_hat.shape)\n",
        "    diff = y_hat - y\n",
        "    #print(\"       diff = \",diff, \" diff.shape = \",diff.shape)\n",
        "    grad = x.T.dot(diff) #Why this line use Transpose function ??????\n",
        "    #print(\"       grad = \",grad, \" grad.shape = \",grad.shape)\n",
        "\n",
        "    theta = theta - alpha * (1/N) * (grad)\n",
        "\n",
        "    assert theta.shape == (3,1) #This line makes sure that the shape of theta is still be the same.\n",
        "\n",
        "    # error\n",
        "    J2 = cost_function(theta, x, y, N)\n",
        "    #print(\"Iterative error = \",J2)\n",
        "\n",
        "    if abs(J-J2) <= ep:\n",
        "        print(\"       Converged, iterations: \", iter, \"/\", max_iter)\n",
        "        converged = True\n",
        "\n",
        "    J = J2   # update error s\n",
        "    iter += 1  # update iter\n",
        "\n",
        "    if iter == max_iter:\n",
        "        print('       Max iterations exceeded!')\n",
        "        converged = True\n",
        "\n",
        "  #print(\"End converged iter = \",iter)\n",
        "  return theta"
      ],
      "metadata": {
        "colab": {
          "base_uri": "https://localhost:8080/"
        },
        "id": "Rm-nUjmZTJgg",
        "outputId": "a2606106-19af-438d-8758-52b947a3cdcb"
      },
      "execution_count": 6,
      "outputs": [
        {
          "output_type": "stream",
          "name": "stdout",
          "text": [
            "time: 1.72 ms (started: 2023-12-31 05:28:55 +00:00)\n"
          ]
        }
      ]
    },
    {
      "cell_type": "code",
      "source": [
        "if __name__ == '__main__':\n",
        "\n",
        "  x = np.array([[0,1],[2,6],[3,8]])\n",
        "  y = np.array([1,1,0])\n",
        "  x_b = np.c_[np.ones((x.shape[0],1)),x]\n",
        "  print(\"start main\")\n",
        "  #print(\"X shape = \", x_b.shape)\n",
        "  y = y.reshape(-1,1)\n",
        "  #print(\"y shape = \", y.shape)\n",
        "\n",
        "  alpha = 0.01 # learning rate\n",
        "  theta = gradient_descent(alpha, x_b, y, ep=0.00001, max_iter=1000)\n",
        "  print (\"Theta = \", theta)\n"
      ],
      "metadata": {
        "colab": {
          "base_uri": "https://localhost:8080/"
        },
        "id": "2gfzCy1yTNVC",
        "outputId": "ee7225db-7467-4402-91b1-12c24ecd81c8"
      },
      "execution_count": 7,
      "outputs": [
        {
          "output_type": "stream",
          "name": "stdout",
          "text": [
            "start main\n",
            "Start GD\n",
            "Init theta.shape =  (3, 1)\n",
            "       Max iterations exceeded!\n",
            "Theta =  [[ 1.93871373]\n",
            " [-0.16171431]\n",
            " [-0.24886922]]\n",
            "time: 136 ms (started: 2023-12-31 05:28:55 +00:00)\n"
          ]
        }
      ]
    },
    {
      "cell_type": "markdown",
      "metadata": {
        "id": "q3LSmwS-JONU"
      },
      "source": [
        "# Stochastic GD\n",
        "## Your turn :"
      ]
    },
    {
      "cell_type": "markdown",
      "metadata": {
        "id": "EDicYUpzJONV"
      },
      "source": [
        "# Mini-batch GD\n",
        "## Your turn :"
      ]
    }
  ],
  "metadata": {
    "kernelspec": {
      "display_name": "Python 3",
      "language": "python",
      "name": "python3"
    },
    "language_info": {
      "codemirror_mode": {
        "name": "ipython",
        "version": 3
      },
      "file_extension": ".py",
      "mimetype": "text/x-python",
      "name": "python",
      "nbconvert_exporter": "python",
      "pygments_lexer": "ipython3",
      "version": "3.7.4"
    },
    "colab": {
      "name": "Lab3.ipynb",
      "provenance": [],
      "include_colab_link": true
    }
  },
  "nbformat": 4,
  "nbformat_minor": 0
}