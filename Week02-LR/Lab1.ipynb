{
  "cells": [
    {
      "cell_type": "markdown",
      "metadata": {
        "id": "view-in-github",
        "colab_type": "text"
      },
      "source": [
        "<a href=\"https://colab.research.google.com/github/ekaratnida/Applied-machine-learning/blob/master/Week02-LR/Lab1.ipynb\" target=\"_parent\"><img src=\"https://colab.research.google.com/assets/colab-badge.svg\" alt=\"Open In Colab\"/></a>"
      ]
    },
    {
      "metadata": {
        "id": "kDRb_r-c9zVR"
      },
      "cell_type": "markdown",
      "source": [
        "## 1.1 Normal equation (Numpy version)"
      ]
    },
    {
      "metadata": {
        "_uuid": "8f2839f25d086af736a60e9eeb907d3b93b6e0e5",
        "_cell_guid": "b1076dfc-b9ad-4769-8c92-a6c4dae69d19",
        "trusted": true,
        "id": "6_YVjzeQ9zVT",
        "outputId": "5ad34e6e-f606-4a24-e860-99c546104876",
        "colab": {
          "base_uri": "https://localhost:8080/",
          "height": 453
        }
      },
      "cell_type": "code",
      "source": [
        "import numpy as np\n",
        "np.set_printoptions(precision=2)\n",
        "\n",
        "x = np.array([0,2,3])\n",
        "y = np.array([1,1,4])\n",
        "x_b = np.c_[np.ones((len(x),1)),x]\n",
        "\n",
        "#call inverse function from linear algebra module\n",
        "theta = np.linalg.inv(x_b.T.dot(x_b)).dot(x_b.T).dot(y)\n",
        "#print(\"theta = \", theta)\n",
        "\n",
        "#prediction\n",
        "x_p = np.array([1,5])\n",
        "x_p_b = np.c_[np.ones((len(x_p),1)), x_p]\n",
        "y_p = x_p_b.dot(theta)\n",
        "#print(\"y predict = \",y_p)\n",
        "\n",
        "import matplotlib.pyplot as plt\n",
        "plt.title(\"y = \"+str(np.round(theta[0],2))+\"+\"+str(np.round(theta[1],2))+r\"$x_1$\")\n",
        "plt.plot(x_p, y_p,\"r-\")\n",
        "plt.plot(x,y, \"b.\")\n",
        "for x,y in zip(x_p,y_p):\n",
        "  plt.text( x ,y, f\"({np.round(x,2)} , {np.round(y,2)})\")\n",
        "plt.axis([0,10,0,10])\n",
        "plt.show()\n"
      ],
      "execution_count": 22,
      "outputs": [
        {
          "output_type": "display_data",
          "data": {
            "text/plain": [
              "<Figure size 640x480 with 1 Axes>"
            ],
            "image/png": "[encoded data removed]"
          },
          "metadata": {}
        }
      ]
    },
    {
      "metadata": {
        "id": "OK0G0dYD9zVV"
      },
      "cell_type": "markdown",
      "source": [
        "## 1.2 Normal equation (Sklearn version)"
      ]
    },
    {
      "metadata": {
        "_uuid": "d629ff2d2480ee46fbb7e2d37f6b5fab8052498a",
        "_cell_guid": "79c7e3d0-c299-4dcb-8224-4455121ee9b0",
        "trusted": true,
        "id": "c8kTg8vl9zVV",
        "outputId": "9788da1f-0731-4ab5-c4d6-b109ade85887",
        "colab": {
          "base_uri": "https://localhost:8080/",
          "height": 74
        }
      },
      "cell_type": "code",
      "source": [
        "import numpy as np\n",
        "from IPython.display import display, Latex\n",
        "from sklearn.linear_model import LinearRegression\n",
        "x = np.array([[0,2,3]]).T\n",
        "y = np.array([1,1,4])\n",
        "\n",
        "lin_reg = LinearRegression()\n",
        "lin_reg.fit(x, y)\n",
        "display(Latex(f'$y = {np.round(lin_reg.intercept_,2)}+{np.round(lin_reg.coef_[0],2)}x_{1}$'))\n",
        "x_n = np.array([[1,5]]).T\n",
        "ans = lin_reg.predict(x_n)\n",
        "print(\"Predicted results = \")\n",
        "print(ans)"
      ],
      "execution_count": 23,
      "outputs": [
        {
          "output_type": "display_data",
          "data": {
            "text/plain": [
              "<IPython.core.display.Latex object>"
            ],
            "text/latex": "$y = 0.57+0.86x_1$"
          },
          "metadata": {}
        },
        {
          "output_type": "stream",
          "name": "stdout",
          "text": [
            "Predicted results = \n",
            "[1.43 4.86]\n"
          ]
        }
      ]
    },
    {
      "metadata": {
        "id": "9U0RQy8g9zVW"
      },
      "cell_type": "markdown",
      "source": [
        "**Gradient descent**\n"
      ]
    },
    {
      "cell_type": "code",
      "source": [
        "import numpy as np\n",
        "import random\n",
        "import sklearn\n",
        "import matplotlib.pyplot as plt\n",
        "from scipy import stats"
      ],
      "metadata": {
        "id": "T7PlibqlYnQP"
      },
      "execution_count": 24,
      "outputs": []
    },
    {
      "cell_type": "code",
      "source": [
        "#Relation between key=theta, value=J\n",
        "lossTheta0 = {}\n",
        "lossTheta1 = {}"
      ],
      "metadata": {
        "id": "_3Gpd7JTZJ9Q"
      },
      "execution_count": 25,
      "outputs": []
    },
    {
      "cell_type": "code",
      "source": [
        "def cost_function(theta0, theta1, x, y, m):\n",
        "    c = 1/(2*m) * sum([(theta0 + theta1*x[i] - y[i])**2 for i in range(m)])\n",
        "    return c"
      ],
      "metadata": {
        "id": "sjXaZJfvYpEV"
      },
      "execution_count": 26,
      "outputs": []
    },
    {
      "metadata": {
        "trusted": true,
        "id": "8vqoKCdK9zVW"
      },
      "cell_type": "code",
      "source": [
        "def gradient_descent(alpha, x, y, ep=0.001, max_iter=10000):\n",
        "  converged = False\n",
        "  iter = 0\n",
        "  m = x.shape[0] # number of samples\n",
        "\n",
        "  # initial theta\n",
        "  t0 = np.random.random(x.shape[1])\n",
        "  print(\"Initial theta0 \",t0)\n",
        "\n",
        "  t1 = np.random.random(x.shape[1])\n",
        "  print(\"Initial theta01\",t1)\n",
        "\n",
        "  # total error, J(theta)\n",
        "  J = cost_function(t0,t1,x,y,m)\n",
        "  print(\"First j = \",J)\n",
        "\n",
        "  lossTheta0[t0[0]] = J[0]\n",
        "  lossTheta1[t1[0]] = J[0]\n",
        "\n",
        "  # Iterate Loop\n",
        "  while not converged:\n",
        "    grad0 = sum([(t0 + t1*x[i] - y[i]) for i in range(m)])\n",
        "    grad1 = sum([(t0 + t1*x[i] - y[i])*x[i] for i in range(m)])\n",
        "\n",
        "    # update the theta_temp\n",
        "    temp0 = t0 - alpha * (1/m) * grad0\n",
        "    temp1 = t1 - alpha * (1/m) * grad1\n",
        "    # update theta\n",
        "    t0 = temp0\n",
        "    t1 = temp1\n",
        "    #print(\"\\niter = \",iter)\n",
        "    #print(\"t0 = \",t0)\n",
        "    #print(\"t1 = \",t1)\n",
        "    # error\n",
        "    e = cost_function(t0,t1,x,y,m)\n",
        "    #print(\"error = \",e)\n",
        "\n",
        "    #Terminate 1\n",
        "    if abs(J-e) <= ep:\n",
        "        print(\"Converged at \", iter, \"/\", max_iter)\n",
        "        converged = True\n",
        "\n",
        "    J = e   # update error s\n",
        "    iter += 1  # update iter\n",
        "\n",
        "    if iter % 1 == 0:\n",
        "      lossTheta0[t0[0]] = J[0]\n",
        "      lossTheta1[t1[0]] = J[0]\n",
        "\n",
        "    #Termiate 2\n",
        "    if iter == max_iter:\n",
        "        print('Max interactions exceeded!')\n",
        "        converged = True\n",
        "\n",
        "  return t0,t1\n"
      ],
      "execution_count": 27,
      "outputs": []
    },
    {
      "cell_type": "code",
      "source": [
        "if __name__ == '__main__':\n",
        "\n",
        "  x = np.array([[0,2,3]]).T # or x = np.array([[0],[2],[3]])\n",
        "  y = np.array([1,1,4])\n",
        "  print(\"x.shape = %s y.shape = %s\" %(x.shape, y.shape))\n",
        "  alpha = 0.01 # learning rate\n",
        "\n",
        "  theta0, theta1 = gradient_descent(alpha, x, y,ep=0.000000001, max_iter=100)\n",
        "  print ((\"theta0 = %s theta1 = %s\") %(theta0, theta1))\n",
        "\n",
        "  # plot\n",
        "  for i in range(x.shape[0]):\n",
        "      y_predict = theta0 + theta1*x\n",
        "\n",
        "  plt.plot(x,y,'o')\n",
        "  plt.plot(x,y_predict,'k-')\n",
        "  plt.show()"
      ],
      "metadata": {
        "id": "hSx-Ati3Ug8x",
        "outputId": "b82cf08b-1fb4-41cd-a63d-7a83f62c7780",
        "colab": {
          "base_uri": "https://localhost:8080/",
          "height": 534
        }
      },
      "execution_count": 28,
      "outputs": [
        {
          "output_type": "stream",
          "name": "stdout",
          "text": [
            "x.shape = (3, 1) y.shape = (3,)\n",
            "Initial theta0  [0.02]\n",
            "Initial theta01 [0.11]\n",
            "First j =  [2.49]\n",
            "Max interactions exceeded!\n",
            "theta0 = [0.42] theta1 = [0.91]\n"
          ]
        },
        {
          "output_type": "display_data",
          "data": {
            "text/plain": [
              "<Figure size 640x480 with 1 Axes>"
            ],
            "image/png": "[encoded data removed]"
          },
          "metadata": {}
        }
      ]
    },
    {
      "cell_type": "markdown",
      "source": [
        "#Gradient Descent curve Static VS Dynamic"
      ],
      "metadata": {
        "id": "JcLLXKDareic"
      }
    },
    {
      "cell_type": "code",
      "source": [
        "lists = sorted(lossTheta0.items()) # sorted by key, return a list of tuples\n",
        "numPoints = len(lists)\n",
        "print(numPoints)\n",
        "_x, _y = zip(*lists) # unpack a list of pairs into two tuples\n",
        "plt.scatter(range(numPoints),_y)\n",
        "plt.xticks(range(0,numPoints,10))\n",
        "plt.xlabel(r'$Iteration$')\n",
        "plt.ylabel(r'$Cost value (J)$')"
      ],
      "metadata": {
        "colab": {
          "base_uri": "https://localhost:8080/",
          "height": 485
        },
        "id": "2VA6vYmnbPAk",
        "outputId": "f6538283-561f-4a26-b0f5-df51c5941480"
      },
      "execution_count": 29,
      "outputs": [
        {
          "output_type": "stream",
          "name": "stdout",
          "text": [
            "101\n"
          ]
        },
        {
          "output_type": "execute_result",
          "data": {
            "text/plain": [
              "Text(0, 0.5, '$Cost value (J)$')"
            ]
          },
          "metadata": {},
          "execution_count": 29
        },
        {
          "output_type": "display_data",
          "data": {
            "text/plain": [
              "<Figure size 640x480 with 1 Axes>"
            ],
            "image/png": "[encoded data removed]"
          },
          "metadata": {}
        }
      ]
    },
    {
      "cell_type": "code",
      "source": [
        "_x = list(_x)\n",
        "_y = list(_y)\n",
        "print(_x)\n",
        "print(_y)"
      ],
      "metadata": {
        "id": "1fK8E5ipjHEH",
        "outputId": "1e5d803b-df6a-4f7c-a123-463b56d9eb28",
        "colab": {
          "base_uri": "https://localhost:8080/"
        }
      },
      "execution_count": 30,
      "outputs": [
        {
          "output_type": "stream",
          "name": "stdout",
          "text": [
            "[0.02122847151032703, 0.03925746229070791, 0.05641049357834464, 0.07273147870317331, 0.08826212521123226, 0.10304204567550758, 0.11710886293998868, 0.13049831007659238, 0.14324432532056433, 0.15537914223662364, 0.16693337535544325, 0.17793610150802236, 0.18841493707407528, 0.1983961113497041, 0.20790453622931013, 0.21696387238690498, 0.22559659213268132, 0.2338240391118672, 0.24166648500449806, 0.24914318337677122, 0.25627242082707796, 0.26307156556262085, 0.26955711353569506, 0.2757447322622289, 0.2816493024390198, 0.2872849574702522, 0.2926651210083283, 0.29780254260876726, 0.30270933159391483, 0.3073969892154487, 0.3118764392011417, 0.31615805676705316, 0.32025169617224025, 0.32416671688920917, 0.3279120084596463, 0.33149601410147733, 0.33492675312998366, 0.33821184225255385, 0.3413585157936556, 0.3443736449037705, 0.3472637558033335, 0.35003504711015704, 0.3526934062963806, 0.3552444253186773, 0.35769341546324984, 0.3600454214450623, 0.3623052347987727, 0.36447740659694927, 0.36656625952936556, 0.3685758993754712, 0.3705102259005244, 0.3723729432043386, 0.37416756955014263, 0.375897446699672, 0.37756574877929644, 0.3791754907007432, 0.38072953615879157, 0.38223060522719055, 0.3836812815729836, 0.3850840193084101, 0.3864411494985914, 0.38775488634229277, 0.3890273330421859, 0.39026048738020924, 0.39145624701284254, 0.39261641450036516, 0.39374270208346235, 0.3948367362198721, 0.395900061893127, 0.39693414670484073, 0.3979403847614131, 0.3989201003654808, 0.39987455152192425, 0.40080493326774497, 0.40171238083466293, 0.402597972652837, 0.4034627332036897, 0.4043076357294176, 0.40513360480638605, 0.4059415187892472, 0.4067322121322748, 0.40750647759408476, 0.40826506833159987, 0.40900869988882177, 0.4097380520856958, 0.41045377081208717, 0.41115646973163544, 0.4118467319000148, 0.4125251113019001, 0.41319213431072266, 0.4138483010750944, 0.41449408683558464, 0.4151299431753482, 0.41575629920792767, 0.4163735627053868, 0.41698212116977124, 0.41758234285074547, 0.41817457771210803, 0.41875915834975447, 0.41933640086352675, 0.41990660568526567]\n",
            "[2.4931852957058216, 2.29164822558653, 2.109847441078754, 1.945849798671983, 1.7979115061763482, 1.6644595757542069, 1.5440750936280052, 1.4354781285209284, 1.3375141183163823, 1.249141590144718, 1.16942108328795, 1.0975051570863892, 1.032629377571221, 0.9741041869567744, 0.92130756951634, 0.8736784358357452, 0.8307106550795467, 0.7919476717969807, 0.756977650011987, 0.7254290929497951, 0.6969668918114673, 0.6712887615711247, 0.6481220258869729, 0.6272207169304143, 0.6083629592870126, 0.5913486101044532, 0.5759971303881021, 0.5621456648032436, 0.5496473095607615, 0.5383695499634789, 0.5281928509948955, 0.5190093859598048, 0.5107218896546101, 0.5032426238696501, 0.49649244422060584, 0.4903999583838044, 0.48490076678240285, 0.4799367776473852, 0.4754555891683584, 0.47140993216269655, 0.4677571673352585, 0.4644588317815348, 0.4614802299108197, 0.4587900644384738, 0.45636010352250317, 0.4541648805041179, 0.4521814230587114, 0.45038900887650657, 0.4487689452742881, 0.44730437039416954, 0.44598007387494376, 0.4447823350886778, 0.44369877722203466, 0.4427182356503305, 0.441830639204355, 0.44102690306710424, 0.44029883216128085, 0.4396390339999865, 0.43904084007368793, 0.4384982349373293, 0.4380057922433594, 0.4375586170403208, 0.43715229372329417, 0.43678283908258886, 0.436446659951316, 0.4361405150013774, 0.4358614802815338, 0.43560691813101926, 0.43537444913805956, 0.4351619268450558, 0.4349674149313877, 0.4347891666311606, 0.43462560616697965, 0.4344753120022835, 0.4343370017341065, 0.43420951846559386, 0.43409181851332423, 0.4339829603186951, 0.4338820944454376, 0.43378845455686854, 0.43370134927691784, 0.43362015484836475, 0.43354430851019676, 0.43347330252365146, 0.43340667878340483, 0.43334402395658955, 0.43328496509794406, 0.4332291656944516, 0.4331763220974059, 0.4331261603039518, 0.43307843305386795, 0.43303291721072085, 0.4329894113995264, 0.4329477338758017, 0.4329077206033394, 0.4328692235202597, 0.4328321089749, 0.43279625631490465, 0.43276155661451066, 0.4327279115264927, 0.4326952322465546]\n"
          ]
        }
      ]
    },
    {
      "cell_type": "code",
      "source": [
        "import plotly.graph_objects as go\n",
        "import numpy as np\n",
        "\n",
        "_x = list(_x)\n",
        "_y = list(_y)\n",
        "xm = np.min(_x) - 0.2\n",
        "xM = np.max(_x) + 0.2\n",
        "ym = np.min(_y) - 0.2\n",
        "yM = np.max(_y) + 0.2\n",
        "N = len(_x)\n",
        "\n",
        "# Create figure\n",
        "fig = go.Figure(\n",
        "    data=[go.Scatter(x=_x, y=_y,\n",
        "                     mode=\"lines\",\n",
        "                     line=dict(width=2, color=\"blue\")),\n",
        "          go.Scatter(x=_x, y=_y,\n",
        "                     mode=\"lines\",\n",
        "                     line=dict(width=2, color=\"blue\"))],\n",
        "\n",
        "    layout=go.Layout(\n",
        "\n",
        "        xaxis=dict(range=[xm, xM]),\n",
        "        yaxis=dict(range=[ym, yM]),\n",
        "\n",
        "        title_text=\"Gradient Descent\",\n",
        "        hovermode=\"closest\",\n",
        "        xaxis_title=r\"$\\theta_0$\",\n",
        "        yaxis_title=\"Cost function (J)\",\n",
        "\n",
        "        updatemenus=[\n",
        "            dict(type=\"buttons\",\n",
        "                          buttons=[dict(label=\"Click to play\",\n",
        "                                        method=\"animate\",\n",
        "                                        args=[None])]\n",
        "                 )\n",
        "            ]\n",
        "        ),\n",
        "\n",
        "    frames=[go.Frame(\n",
        "        data=[go.Scatter(\n",
        "            x=[_x[k]],\n",
        "            y=[_y[k]],\n",
        "            mode=\"markers\",\n",
        "            marker=dict(color=\"red\", size=10))])\n",
        "        for k in range(0,N,5)],\n",
        ")\n",
        "\n",
        "fig.show()"
      ],
      "metadata": {
        "colab": {
          "base_uri": "https://localhost:8080/",
          "height": 542
        },
        "id": "9dyO-KMLkS35",
        "outputId": "9ff21486-58b7-478f-f05b-21a9da5f0223"
      },
      "execution_count": 31,
      "outputs": [
        {
          "output_type": "display_data",
          "data": {
            "text/html": [
              "<html>\n",
              "<head><meta charset=\"utf-8\" /></head>\n",
              "<body>\n",
              "    <div>            <script src=\"https://cdnjs.cloudflare.com/ajax/libs/mathjax/2.7.5/MathJax.js?config=TeX-AMS-MML_SVG\"></script><script type=\"text/javascript\">if (window.MathJax && window.MathJax.Hub && window.MathJax.Hub.Config) {window.MathJax.Hub.Config({SVG: {font: \"STIX-Web\"}});}</script>                <script type=\"text/javascript\">window.PlotlyConfig = {MathJaxConfig: 'local'};</script>\n",
              "        <script charset=\"utf-8\" src=\"https://cdn.plot.ly/plotly-2.24.1.min.js\"></script>                <div id=\"8c19d790-f6cf-4429-993a-580f780acf81\" class=\"plotly-graph-div\" style=\"height:525px; width:100%;\"></div>            <script type=\"text/javascript\">                                    window.PLOTLYENV=window.PLOTLYENV || {};                                    if (document.getElementById(\"8c19d790-f6cf-4429-993a-580f780acf81\")) {                    Plotly.newPlot(                        \"8c19d790-f6cf-4429-993a-580f780acf81\",                        [{\"line\":{\"color\":\"blue\",\"width\":2},\"mode\":\"lines\",\"x\":[0.02122847151032703,0.03925746229070791,0.05641049357834464,0.07273147870317331,0.08826212521123226,0.10304204567550758,0.11710886293998868,0.13049831007659238,0.14324432532056433,0.15537914223662364,0.16693337535544325,0.17793610150802236,0.18841493707407528,0.1983961113497041,0.20790453622931013,0.21696387238690498,0.22559659213268132,0.2338240391118672,0.24166648500449806,0.24914318337677122,0.25627242082707796,0.26307156556262085,0.26955711353569506,0.2757447322622289,0.2816493024390198,0.2872849574702522,0.2926651210083283,0.29780254260876726,0.30270933159391483,0.3073969892154487,0.3118764392011417,0.31615805676705316,0.32025169617224025,0.32416671688920917,0.3279120084596463,0.33149601410147733,0.33492675312998366,0.33821184225255385,0.3413585157936556,0.3443736449037705,0.3472637558033335,0.35003504711015704,0.3526934062963806,0.3552444253186773,0.35769341546324984,0.3600454214450623,0.3623052347987727,0.36447740659694927,0.36656625952936556,0.3685758993754712,0.3705102259005244,0.3723729432043386,0.37416756955014263,0.375897446699672,0.37756574877929644,0.3791754907007432,0.38072953615879157,0.38223060522719055,0.3836812815729836,0.3850840193084101,0.3864411494985914,0.38775488634229277,0.3890273330421859,0.39026048738020924,0.39145624701284254,0.39261641450036516,0.39374270208346235,0.3948367362198721,0.395900061893127,0.39693414670484073,0.3979403847614131,0.3989201003654808,0.39987455152192425,0.40080493326774497,0.40171238083466293,0.402597972652837,0.4034627332036897,0.4043076357294176,0.40513360480638605,0.4059415187892472,0.4067322121322748,0.40750647759408476,0.40826506833159987,0.40900869988882177,0.4097380520856958,0.41045377081208717,0.41115646973163544,0.4118467319000148,0.4125251113019001,0.41319213431072266,0.4138483010750944,0.41449408683558464,0.4151299431753482,0.41575629920792767,0.4163735627053868,0.41698212116977124,0.41758234285074547,0.41817457771210803,0.41875915834975447,0.41933640086352675,0.41990660568526567],\"y\":[2.4931852957058216,2.29164822558653,2.109847441078754,1.945849798671983,1.7979115061763482,1.6644595757542069,1.5440750936280052,1.4354781285209284,1.3375141183163823,1.249141590144718,1.16942108328795,1.0975051570863892,1.032629377571221,0.9741041869567744,0.92130756951634,0.8736784358357452,0.8307106550795467,0.7919476717969807,0.756977650011987,0.7254290929497951,0.6969668918114673,0.6712887615711247,0.6481220258869729,0.6272207169304143,0.6083629592870126,0.5913486101044532,0.5759971303881021,0.5621456648032436,0.5496473095607615,0.5383695499634789,0.5281928509948955,0.5190093859598048,0.5107218896546101,0.5032426238696501,0.49649244422060584,0.4903999583838044,0.48490076678240285,0.4799367776473852,0.4754555891683584,0.47140993216269655,0.4677571673352585,0.4644588317815348,0.4614802299108197,0.4587900644384738,0.45636010352250317,0.4541648805041179,0.4521814230587114,0.45038900887650657,0.4487689452742881,0.44730437039416954,0.44598007387494376,0.4447823350886778,0.44369877722203466,0.4427182356503305,0.441830639204355,0.44102690306710424,0.44029883216128085,0.4396390339999865,0.43904084007368793,0.4384982349373293,0.4380057922433594,0.4375586170403208,0.43715229372329417,0.43678283908258886,0.436446659951316,0.4361405150013774,0.4358614802815338,0.43560691813101926,0.43537444913805956,0.4351619268450558,0.4349674149313877,0.4347891666311606,0.43462560616697965,0.4344753120022835,0.4343370017341065,0.43420951846559386,0.43409181851332423,0.4339829603186951,0.4338820944454376,0.43378845455686854,0.43370134927691784,0.43362015484836475,0.43354430851019676,0.43347330252365146,0.43340667878340483,0.43334402395658955,0.43328496509794406,0.4332291656944516,0.4331763220974059,0.4331261603039518,0.43307843305386795,0.43303291721072085,0.4329894113995264,0.4329477338758017,0.4329077206033394,0.4328692235202597,0.4328321089749,0.43279625631490465,0.43276155661451066,0.4327279115264927,0.4326952322465546],\"type\":\"scatter\"},{\"line\":{\"color\":\"blue\",\"width\":2},\"mode\":\"lines\",\"x\":[0.02122847151032703,0.03925746229070791,0.05641049357834464,0.07273147870317331,0.08826212521123226,0.10304204567550758,0.11710886293998868,0.13049831007659238,0.14324432532056433,0.15537914223662364,0.16693337535544325,0.17793610150802236,0.18841493707407528,0.1983961113497041,0.20790453622931013,0.21696387238690498,0.22559659213268132,0.2338240391118672,0.24166648500449806,0.24914318337677122,0.25627242082707796,0.26307156556262085,0.26955711353569506,0.2757447322622289,0.2816493024390198,0.2872849574702522,0.2926651210083283,0.29780254260876726,0.30270933159391483,0.3073969892154487,0.3118764392011417,0.31615805676705316,0.32025169617224025,0.32416671688920917,0.3279120084596463,0.33149601410147733,0.33492675312998366,0.33821184225255385,0.3413585157936556,0.3443736449037705,0.3472637558033335,0.35003504711015704,0.3526934062963806,0.3552444253186773,0.35769341546324984,0.3600454214450623,0.3623052347987727,0.36447740659694927,0.36656625952936556,0.3685758993754712,0.3705102259005244,0.3723729432043386,0.37416756955014263,0.375897446699672,0.37756574877929644,0.3791754907007432,0.38072953615879157,0.38223060522719055,0.3836812815729836,0.3850840193084101,0.3864411494985914,0.38775488634229277,0.3890273330421859,0.39026048738020924,0.39145624701284254,0.39261641450036516,0.39374270208346235,0.3948367362198721,0.395900061893127,0.39693414670484073,0.3979403847614131,0.3989201003654808,0.39987455152192425,0.40080493326774497,0.40171238083466293,0.402597972652837,0.4034627332036897,0.4043076357294176,0.40513360480638605,0.4059415187892472,0.4067322121322748,0.40750647759408476,0.40826506833159987,0.40900869988882177,0.4097380520856958,0.41045377081208717,0.41115646973163544,0.4118467319000148,0.4125251113019001,0.41319213431072266,0.4138483010750944,0.41449408683558464,0.4151299431753482,0.41575629920792767,0.4163735627053868,0.41698212116977124,0.41758234285074547,0.41817457771210803,0.41875915834975447,0.41933640086352675,0.41990660568526567],\"y\":[2.4931852957058216,2.29164822558653,2.109847441078754,1.945849798671983,1.7979115061763482,1.6644595757542069,1.5440750936280052,1.4354781285209284,1.3375141183163823,1.249141590144718,1.16942108328795,1.0975051570863892,1.032629377571221,0.9741041869567744,0.92130756951634,0.8736784358357452,0.8307106550795467,0.7919476717969807,0.756977650011987,0.7254290929497951,0.6969668918114673,0.6712887615711247,0.6481220258869729,0.6272207169304143,0.6083629592870126,0.5913486101044532,0.5759971303881021,0.5621456648032436,0.5496473095607615,0.5383695499634789,0.5281928509948955,0.5190093859598048,0.5107218896546101,0.5032426238696501,0.49649244422060584,0.4903999583838044,0.48490076678240285,0.4799367776473852,0.4754555891683584,0.47140993216269655,0.4677571673352585,0.4644588317815348,0.4614802299108197,0.4587900644384738,0.45636010352250317,0.4541648805041179,0.4521814230587114,0.45038900887650657,0.4487689452742881,0.44730437039416954,0.44598007387494376,0.4447823350886778,0.44369877722203466,0.4427182356503305,0.441830639204355,0.44102690306710424,0.44029883216128085,0.4396390339999865,0.43904084007368793,0.4384982349373293,0.4380057922433594,0.4375586170403208,0.43715229372329417,0.43678283908258886,0.436446659951316,0.4361405150013774,0.4358614802815338,0.43560691813101926,0.43537444913805956,0.4351619268450558,0.4349674149313877,0.4347891666311606,0.43462560616697965,0.4344753120022835,0.4343370017341065,0.43420951846559386,0.43409181851332423,0.4339829603186951,0.4338820944454376,0.43378845455686854,0.43370134927691784,0.43362015484836475,0.43354430851019676,0.43347330252365146,0.43340667878340483,0.43334402395658955,0.43328496509794406,0.4332291656944516,0.4331763220974059,0.4331261603039518,0.43307843305386795,0.43303291721072085,0.4329894113995264,0.4329477338758017,0.4329077206033394,0.4328692235202597,0.4328321089749,0.43279625631490465,0.43276155661451066,0.4327279115264927,0.4326952322465546],\"type\":\"scatter\"}],                        {\"hovermode\":\"closest\",\"title\":{\"text\":\"Gradient Descent\"},\"updatemenus\":[{\"buttons\":[{\"args\":[null],\"label\":\"Click to play\",\"method\":\"animate\"}],\"type\":\"buttons\"}],\"xaxis\":{\"range\":[-0.17877152848967298,0.6199066056852657],\"title\":{\"text\":\"$\\\\theta_0$\"}},\"yaxis\":{\"range\":[0.23269523224655458,2.6931852957058218],\"title\":{\"text\":\"Cost function (J)\"}},\"template\":{\"data\":{\"histogram2dcontour\":[{\"type\":\"histogram2dcontour\",\"colorbar\":{\"outlinewidth\":0,\"ticks\":\"\"},\"colorscale\":[[0.0,\"#0d0887\"],[0.1111111111111111,\"#46039f\"],[0.2222222222222222,\"#7201a8\"],[0.3333333333333333,\"#9c179e\"],[0.4444444444444444,\"#bd3786\"],[0.5555555555555556,\"#d8576b\"],[0.6666666666666666,\"#ed7953\"],[0.7777777777777778,\"#fb9f3a\"],[0.8888888888888888,\"#fdca26\"],[1.0,\"#f0f921\"]]}],\"choropleth\":[{\"type\":\"choropleth\",\"colorbar\":{\"outlinewidth\":0,\"ticks\":\"\"}}],\"histogram2d\":[{\"type\":\"histogram2d\",\"colorbar\":{\"outlinewidth\":0,\"ticks\":\"\"},\"colorscale\":[[0.0,\"#0d0887\"],[0.1111111111111111,\"#46039f\"],[0.2222222222222222,\"#7201a8\"],[0.3333333333333333,\"#9c179e\"],[0.4444444444444444,\"#bd3786\"],[0.5555555555555556,\"#d8576b\"],[0.6666666666666666,\"#ed7953\"],[0.7777777777777778,\"#fb9f3a\"],[0.8888888888888888,\"#fdca26\"],[1.0,\"#f0f921\"]]}],\"heatmap\":[{\"type\":\"heatmap\",\"colorbar\":{\"outlinewidth\":0,\"ticks\":\"\"},\"colorscale\":[[0.0,\"#0d0887\"],[0.1111111111111111,\"#46039f\"],[0.2222222222222222,\"#7201a8\"],[0.3333333333333333,\"#9c179e\"],[0.4444444444444444,\"#bd3786\"],[0.5555555555555556,\"#d8576b\"],[0.6666666666666666,\"#ed7953\"],[0.7777777777777778,\"#fb9f3a\"],[0.8888888888888888,\"#fdca26\"],[1.0,\"#f0f921\"]]}],\"heatmapgl\":[{\"type\":\"heatmapgl\",\"colorbar\":{\"outlinewidth\":0,\"ticks\":\"\"},\"colorscale\":[[0.0,\"#0d0887\"],[0.1111111111111111,\"#46039f\"],[0.2222222222222222,\"#7201a8\"],[0.3333333333333333,\"#9c179e\"],[0.4444444444444444,\"#bd3786\"],[0.5555555555555556,\"#d8576b\"],[0.6666666666666666,\"#ed7953\"],[0.7777777777777778,\"#fb9f3a\"],[0.8888888888888888,\"#fdca26\"],[1.0,\"#f0f921\"]]}],\"contourcarpet\":[{\"type\":\"contourcarpet\",\"colorbar\":{\"outlinewidth\":0,\"ticks\":\"\"}}],\"contour\":[{\"type\":\"contour\",\"colorbar\":{\"outlinewidth\":0,\"ticks\":\"\"},\"colorscale\":[[0.0,\"#0d0887\"],[0.1111111111111111,\"#46039f\"],[0.2222222222222222,\"#7201a8\"],[0.3333333333333333,\"#9c179e\"],[0.4444444444444444,\"#bd3786\"],[0.5555555555555556,\"#d8576b\"],[0.6666666666666666,\"#ed7953\"],[0.7777777777777778,\"#fb9f3a\"],[0.8888888888888888,\"#fdca26\"],[1.0,\"#f0f921\"]]}],\"surface\":[{\"type\":\"surface\",\"colorbar\":{\"outlinewidth\":0,\"ticks\":\"\"},\"colorscale\":[[0.0,\"#0d0887\"],[0.1111111111111111,\"#46039f\"],[0.2222222222222222,\"#7201a8\"],[0.3333333333333333,\"#9c179e\"],[0.4444444444444444,\"#bd3786\"],[0.5555555555555556,\"#d8576b\"],[0.6666666666666666,\"#ed7953\"],[0.7777777777777778,\"#fb9f3a\"],[0.8888888888888888,\"#fdca26\"],[1.0,\"#f0f921\"]]}],\"mesh3d\":[{\"type\":\"mesh3d\",\"colorbar\":{\"outlinewidth\":0,\"ticks\":\"\"}}],\"scatter\":[{\"fillpattern\":{\"fillmode\":\"overlay\",\"size\":10,\"solidity\":0.2},\"type\":\"scatter\"}],\"parcoords\":[{\"type\":\"parcoords\",\"line\":{\"colorbar\":{\"outlinewidth\":0,\"ticks\":\"\"}}}],\"scatterpolargl\":[{\"type\":\"scatterpolargl\",\"marker\":{\"colorbar\":{\"outlinewidth\":0,\"ticks\":\"\"}}}],\"bar\":[{\"error_x\":{\"color\":\"#2a3f5f\"},\"error_y\":{\"color\":\"#2a3f5f\"},\"marker\":{\"line\":{\"color\":\"#E5ECF6\",\"width\":0.5},\"pattern\":{\"fillmode\":\"overlay\",\"size\":10,\"solidity\":0.2}},\"type\":\"bar\"}],\"scattergeo\":[{\"type\":\"scattergeo\",\"marker\":{\"colorbar\":{\"outlinewidth\":0,\"ticks\":\"\"}}}],\"scatterpolar\":[{\"type\":\"scatterpolar\",\"marker\":{\"colorbar\":{\"outlinewidth\":0,\"ticks\":\"\"}}}],\"histogram\":[{\"marker\":{\"pattern\":{\"fillmode\":\"overlay\",\"size\":10,\"solidity\":0.2}},\"type\":\"histogram\"}],\"scattergl\":[{\"type\":\"scattergl\",\"marker\":{\"colorbar\":{\"outlinewidth\":0,\"ticks\":\"\"}}}],\"scatter3d\":[{\"type\":\"scatter3d\",\"line\":{\"colorbar\":{\"outlinewidth\":0,\"ticks\":\"\"}},\"marker\":{\"colorbar\":{\"outlinewidth\":0,\"ticks\":\"\"}}}],\"scattermapbox\":[{\"type\":\"scattermapbox\",\"marker\":{\"colorbar\":{\"outlinewidth\":0,\"ticks\":\"\"}}}],\"scatterternary\":[{\"type\":\"scatterternary\",\"marker\":{\"colorbar\":{\"outlinewidth\":0,\"ticks\":\"\"}}}],\"scattercarpet\":[{\"type\":\"scattercarpet\",\"marker\":{\"colorbar\":{\"outlinewidth\":0,\"ticks\":\"\"}}}],\"carpet\":[{\"aaxis\":{\"endlinecolor\":\"#2a3f5f\",\"gridcolor\":\"white\",\"linecolor\":\"white\",\"minorgridcolor\":\"white\",\"startlinecolor\":\"#2a3f5f\"},\"baxis\":{\"endlinecolor\":\"#2a3f5f\",\"gridcolor\":\"white\",\"linecolor\":\"white\",\"minorgridcolor\":\"white\",\"startlinecolor\":\"#2a3f5f\"},\"type\":\"carpet\"}],\"table\":[{\"cells\":{\"fill\":{\"color\":\"#EBF0F8\"},\"line\":{\"color\":\"white\"}},\"header\":{\"fill\":{\"color\":\"#C8D4E3\"},\"line\":{\"color\":\"white\"}},\"type\":\"table\"}],\"barpolar\":[{\"marker\":{\"line\":{\"color\":\"#E5ECF6\",\"width\":0.5},\"pattern\":{\"fillmode\":\"overlay\",\"size\":10,\"solidity\":0.2}},\"type\":\"barpolar\"}],\"pie\":[{\"automargin\":true,\"type\":\"pie\"}]},\"layout\":{\"autotypenumbers\":\"strict\",\"colorway\":[\"#636efa\",\"#EF553B\",\"#00cc96\",\"#ab63fa\",\"#FFA15A\",\"#19d3f3\",\"#FF6692\",\"#B6E880\",\"#FF97FF\",\"#FECB52\"],\"font\":{\"color\":\"#2a3f5f\"},\"hovermode\":\"closest\",\"hoverlabel\":{\"align\":\"left\"},\"paper_bgcolor\":\"white\",\"plot_bgcolor\":\"#E5ECF6\",\"polar\":{\"bgcolor\":\"#E5ECF6\",\"angularaxis\":{\"gridcolor\":\"white\",\"linecolor\":\"white\",\"ticks\":\"\"},\"radialaxis\":{\"gridcolor\":\"white\",\"linecolor\":\"white\",\"ticks\":\"\"}},\"ternary\":{\"bgcolor\":\"#E5ECF6\",\"aaxis\":{\"gridcolor\":\"white\",\"linecolor\":\"white\",\"ticks\":\"\"},\"baxis\":{\"gridcolor\":\"white\",\"linecolor\":\"white\",\"ticks\":\"\"},\"caxis\":{\"gridcolor\":\"white\",\"linecolor\":\"white\",\"ticks\":\"\"}},\"coloraxis\":{\"colorbar\":{\"outlinewidth\":0,\"ticks\":\"\"}},\"colorscale\":{\"sequential\":[[0.0,\"#0d0887\"],[0.1111111111111111,\"#46039f\"],[0.2222222222222222,\"#7201a8\"],[0.3333333333333333,\"#9c179e\"],[0.4444444444444444,\"#bd3786\"],[0.5555555555555556,\"#d8576b\"],[0.6666666666666666,\"#ed7953\"],[0.7777777777777778,\"#fb9f3a\"],[0.8888888888888888,\"#fdca26\"],[1.0,\"#f0f921\"]],\"sequentialminus\":[[0.0,\"#0d0887\"],[0.1111111111111111,\"#46039f\"],[0.2222222222222222,\"#7201a8\"],[0.3333333333333333,\"#9c179e\"],[0.4444444444444444,\"#bd3786\"],[0.5555555555555556,\"#d8576b\"],[0.6666666666666666,\"#ed7953\"],[0.7777777777777778,\"#fb9f3a\"],[0.8888888888888888,\"#fdca26\"],[1.0,\"#f0f921\"]],\"diverging\":[[0,\"#8e0152\"],[0.1,\"#c51b7d\"],[0.2,\"#de77ae\"],[0.3,\"#f1b6da\"],[0.4,\"#fde0ef\"],[0.5,\"#f7f7f7\"],[0.6,\"#e6f5d0\"],[0.7,\"#b8e186\"],[0.8,\"#7fbc41\"],[0.9,\"#4d9221\"],[1,\"#276419\"]]},\"xaxis\":{\"gridcolor\":\"white\",\"linecolor\":\"white\",\"ticks\":\"\",\"title\":{\"standoff\":15},\"zerolinecolor\":\"white\",\"automargin\":true,\"zerolinewidth\":2},\"yaxis\":{\"gridcolor\":\"white\",\"linecolor\":\"white\",\"ticks\":\"\",\"title\":{\"standoff\":15},\"zerolinecolor\":\"white\",\"automargin\":true,\"zerolinewidth\":2},\"scene\":{\"xaxis\":{\"backgroundcolor\":\"#E5ECF6\",\"gridcolor\":\"white\",\"linecolor\":\"white\",\"showbackground\":true,\"ticks\":\"\",\"zerolinecolor\":\"white\",\"gridwidth\":2},\"yaxis\":{\"backgroundcolor\":\"#E5ECF6\",\"gridcolor\":\"white\",\"linecolor\":\"white\",\"showbackground\":true,\"ticks\":\"\",\"zerolinecolor\":\"white\",\"gridwidth\":2},\"zaxis\":{\"backgroundcolor\":\"#E5ECF6\",\"gridcolor\":\"white\",\"linecolor\":\"white\",\"showbackground\":true,\"ticks\":\"\",\"zerolinecolor\":\"white\",\"gridwidth\":2}},\"shapedefaults\":{\"line\":{\"color\":\"#2a3f5f\"}},\"annotationdefaults\":{\"arrowcolor\":\"#2a3f5f\",\"arrowhead\":0,\"arrowwidth\":1},\"geo\":{\"bgcolor\":\"white\",\"landcolor\":\"#E5ECF6\",\"subunitcolor\":\"white\",\"showland\":true,\"showlakes\":true,\"lakecolor\":\"white\"},\"title\":{\"x\":0.05},\"mapbox\":{\"style\":\"light\"}}}},                        {\"responsive\": true}                    ).then(function(){\n",
              "                            Plotly.addFrames('8c19d790-f6cf-4429-993a-580f780acf81', [{\"data\":[{\"marker\":{\"color\":\"red\",\"size\":10},\"mode\":\"markers\",\"x\":[0.02122847151032703],\"y\":[2.4931852957058216],\"type\":\"scatter\"}]},{\"data\":[{\"marker\":{\"color\":\"red\",\"size\":10},\"mode\":\"markers\",\"x\":[0.10304204567550758],\"y\":[1.6644595757542069],\"type\":\"scatter\"}]},{\"data\":[{\"marker\":{\"color\":\"red\",\"size\":10},\"mode\":\"markers\",\"x\":[0.16693337535544325],\"y\":[1.16942108328795],\"type\":\"scatter\"}]},{\"data\":[{\"marker\":{\"color\":\"red\",\"size\":10},\"mode\":\"markers\",\"x\":[0.21696387238690498],\"y\":[0.8736784358357452],\"type\":\"scatter\"}]},{\"data\":[{\"marker\":{\"color\":\"red\",\"size\":10},\"mode\":\"markers\",\"x\":[0.25627242082707796],\"y\":[0.6969668918114673],\"type\":\"scatter\"}]},{\"data\":[{\"marker\":{\"color\":\"red\",\"size\":10},\"mode\":\"markers\",\"x\":[0.2872849574702522],\"y\":[0.5913486101044532],\"type\":\"scatter\"}]},{\"data\":[{\"marker\":{\"color\":\"red\",\"size\":10},\"mode\":\"markers\",\"x\":[0.3118764392011417],\"y\":[0.5281928509948955],\"type\":\"scatter\"}]},{\"data\":[{\"marker\":{\"color\":\"red\",\"size\":10},\"mode\":\"markers\",\"x\":[0.33149601410147733],\"y\":[0.4903999583838044],\"type\":\"scatter\"}]},{\"data\":[{\"marker\":{\"color\":\"red\",\"size\":10},\"mode\":\"markers\",\"x\":[0.3472637558033335],\"y\":[0.4677571673352585],\"type\":\"scatter\"}]},{\"data\":[{\"marker\":{\"color\":\"red\",\"size\":10},\"mode\":\"markers\",\"x\":[0.3600454214450623],\"y\":[0.4541648805041179],\"type\":\"scatter\"}]},{\"data\":[{\"marker\":{\"color\":\"red\",\"size\":10},\"mode\":\"markers\",\"x\":[0.3705102259005244],\"y\":[0.44598007387494376],\"type\":\"scatter\"}]},{\"data\":[{\"marker\":{\"color\":\"red\",\"size\":10},\"mode\":\"markers\",\"x\":[0.3791754907007432],\"y\":[0.44102690306710424],\"type\":\"scatter\"}]},{\"data\":[{\"marker\":{\"color\":\"red\",\"size\":10},\"mode\":\"markers\",\"x\":[0.3864411494985914],\"y\":[0.4380057922433594],\"type\":\"scatter\"}]},{\"data\":[{\"marker\":{\"color\":\"red\",\"size\":10},\"mode\":\"markers\",\"x\":[0.39261641450036516],\"y\":[0.4361405150013774],\"type\":\"scatter\"}]},{\"data\":[{\"marker\":{\"color\":\"red\",\"size\":10},\"mode\":\"markers\",\"x\":[0.3979403847614131],\"y\":[0.4349674149313877],\"type\":\"scatter\"}]},{\"data\":[{\"marker\":{\"color\":\"red\",\"size\":10},\"mode\":\"markers\",\"x\":[0.402597972652837],\"y\":[0.43420951846559386],\"type\":\"scatter\"}]},{\"data\":[{\"marker\":{\"color\":\"red\",\"size\":10},\"mode\":\"markers\",\"x\":[0.4067322121322748],\"y\":[0.43370134927691784],\"type\":\"scatter\"}]},{\"data\":[{\"marker\":{\"color\":\"red\",\"size\":10},\"mode\":\"markers\",\"x\":[0.41045377081208717],\"y\":[0.43334402395658955],\"type\":\"scatter\"}]},{\"data\":[{\"marker\":{\"color\":\"red\",\"size\":10},\"mode\":\"markers\",\"x\":[0.4138483010750944],\"y\":[0.43307843305386795],\"type\":\"scatter\"}]},{\"data\":[{\"marker\":{\"color\":\"red\",\"size\":10},\"mode\":\"markers\",\"x\":[0.41698212116977124],\"y\":[0.4328692235202597],\"type\":\"scatter\"}]},{\"data\":[{\"marker\":{\"color\":\"red\",\"size\":10},\"mode\":\"markers\",\"x\":[0.41990660568526567],\"y\":[0.4326952322465546],\"type\":\"scatter\"}]}]);\n",
              "                        }).then(function(){\n",
              "                            \n",
              "var gd = document.getElementById('8c19d790-f6cf-4429-993a-580f780acf81');\n",
              "var x = new MutationObserver(function (mutations, observer) {{\n",
              "        var display = window.getComputedStyle(gd).display;\n",
              "        if (!display || display === 'none') {{\n",
              "            console.log([gd, 'removed!']);\n",
              "            Plotly.purge(gd);\n",
              "            observer.disconnect();\n",
              "        }}\n",
              "}});\n",
              "\n",
              "// Listen for the removal of the full notebook cells\n",
              "var notebookContainer = gd.closest('#notebook-container');\n",
              "if (notebookContainer) {{\n",
              "    x.observe(notebookContainer, {childList: true});\n",
              "}}\n",
              "\n",
              "// Listen for the clearing of the current output cell\n",
              "var outputEl = gd.closest('.output');\n",
              "if (outputEl) {{\n",
              "    x.observe(outputEl, {childList: true});\n",
              "}}\n",
              "\n",
              "                        })                };                            </script>        </div>\n",
              "</body>\n",
              "</html>"
            ]
          },
          "metadata": {}
        }
      ]
    }
  ],
  "metadata": {
    "kernelspec": {
      "name": "python3",
      "display_name": "Python 3",
      "language": "python"
    },
    "language_info": {
      "name": "python",
      "version": "3.7.6",
      "mimetype": "text/x-python",
      "codemirror_mode": {
        "name": "ipython",
        "version": 3
      },
      "pygments_lexer": "ipython3",
      "nbconvert_exporter": "python",
      "file_extension": ".py"
    },
    "colab": {
      "name": "Lab1.ipynb",
      "provenance": [],
      "include_colab_link": true
    }
  },
  "nbformat": 4,
  "nbformat_minor": 0
}